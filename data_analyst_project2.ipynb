{
 "cells": [
  {
   "cell_type": "markdown",
   "id": "e9f6bbd7-0c30-43f9-bc5d-0b14d78c5eab",
   "metadata": {},
   "source": [
    "# Real-world Data Wrangling - (Air Quality Data in India (2015 - 2020))"
   ]
  },
  {
   "cell_type": "markdown",
   "id": "a98bb278-1017-48a7-b421-c8f05d7e07c5",
   "metadata": {},
   "source": [
    "## 1. Gather data\n",
    "\n",
    "In this section, you will extract data using two different data gathering methods and combine the data. Use at least two different types of data-gathering methods."
   ]
  },
  {
   "cell_type": "markdown",
   "id": "1008bc30-ce10-47ca-aa4f-971abf272b35",
   "metadata": {},
   "source": [
    "### **1.1.** Problem Statement\n",
    "For this project, I will analyze how air pollution levels vary across different monitoring stations in Indian cities. Specifically, I aim to investigate the temporal trends of pollutants like PM2.5 and PM10 and their spatial distribution. I will wrangle the station_day.csv dataset, which contains daily pollution data, and optionally use stations.csv to link pollution levels to specific station locations for deeper insights. This will involve addressing missing data, handling outliers, and ensuring the datasets are tidy for analysis."
   ]
  },
  {
   "cell_type": "markdown",
   "id": "dc865639-9d8c-4059-bfd6-8e5843f53a7a",
   "metadata": {},
   "source": [
    "### **1.2.** Gather at least two datasets using two different data gathering methods\n",
    "\n",
    "List of data gathering methods:\n",
    "\n",
    "- Download data manually\n",
    "- Programmatically downloading files\n",
    "- Gather data by accessing APIs\n",
    "- Gather and extract data from HTML files using BeautifulSoup\n",
    "- Extract data from a SQL database\n",
    "\n",
    "Each dataset must have at least two variables, and have greater than 500 data samples within each dataset.\n",
    "\n",
    "For each dataset, briefly describe why you picked the dataset and the gathering method (2-3 full sentences), including the names and significance of the variables in the dataset. Show your work (e.g., if using an API to download the data, please include a snippet of your code). \n",
    "\n",
    "Load the dataset programmtically into this notebook."
   ]
  },
  {
   "cell_type": "markdown",
   "id": "80d0fbc7-28e3-4f1f-8ca9-69299eb29244",
   "metadata": {},
   "source": [
    "#### **Dataset 1**\n",
    "\n",
    "Type:(CSV File.)\n",
    "\n",
    "Method:(The data was gatherd using API from kaggle website)\n",
    "\n",
    "Dataset variables:\n",
    "\n",
    "StationId: Unique identifier for each air quality monitoring station.\n",
    "\n",
    "Date: The date on which air quality measurements were recorded.\n",
    "\n",
    "PM2.5: Concentration of fine particulate matter (particles smaller than 2.5 micrometers).\n",
    "\n",
    "PM10: Concentration of coarse particulate matter (particles smaller than 10 micrometers).\n",
    "\n",
    "NO: Concentration of nitric oxide in the air.\n",
    "\n",
    "NO2: Concentration of nitrogen dioxide in the air.\n",
    "\n",
    "NOx: Total concentration of nitrogen oxides (includes both NO and NO2).\n",
    "\n",
    "NH3: Concentration of ammonia in the air.\n",
    "\n",
    "CO: Concentration of carbon monoxide in the air.\n",
    "\n",
    "SO2: Concentration of sulfur dioxide in the air.\n",
    "\n",
    "O3: Concentration of ozone in the air.\n",
    "\n",
    "Benzene: Concentration of benzene, a volatile organic compound.\n",
    "\n",
    "Toluene: Concentration of toluene, another volatile organic compound.\n",
    "\n",
    "Xylene: Concentration of xylene, a volatile organic compound.\n",
    "\n",
    "AQI: Air Quality Index, summarizing the overall air quality based on pollutant concentrations.\n",
    "\n",
    "AQI_Bucket: Category of air quality based on AQI (e.g., \"Good,\" \"Moderate,\" \"Poor\").\n"
   ]
  },
  {
   "cell_type": "code",
   "execution_count": 5,
   "id": "260c5a87-68d7-49c3-989f-bd0bd8aa1791",
   "metadata": {},
   "outputs": [],
   "source": [
    "import pandas as pd  # for handling data in tabular form\n",
    "import numpy as np   # for numerical operations\n",
    "import kaggle        # for downloading datasets from Kaggle\n",
    "import os            # for interacting with the file system\n",
    "import matplotlib.pyplot as plt  # for plotting graphs\n",
    "import seaborn as sns\n"
   ]
  },
  {
   "cell_type": "code",
   "execution_count": 7,
   "id": "925f4285-c6d7-4037-ac20-9442b6e3f35a",
   "metadata": {},
   "outputs": [
    {
     "name": "stdout",
     "output_type": "stream",
     "text": [
      "Dataset URL: https://www.kaggle.com/datasets/rohanrao/air-quality-data-in-india\n",
      "Extracted station_day.csv to data-sets\n"
     ]
    }
   ],
   "source": [
    "from kaggle.api.kaggle_api_extended import KaggleApi\n",
    "import zipfile\n",
    "import os\n",
    "\n",
    "# Initialize and authenticate Kaggle API\n",
    "api = KaggleApi()\n",
    "api.authenticate()\n",
    "\n",
    "# Define paths\n",
    "dataset_path = \"rohanrao/air-quality-data-in-india\"\n",
    "file_name = \"station_day.csv\"\n",
    "data_folder = \"data-sets\"\n",
    "os.makedirs(data_folder, exist_ok=True)\n",
    "\n",
    "# Download the file (compressed)\n",
    "api.dataset_download_file(dataset_path, file_name=file_name, path=data_folder)\n",
    "\n",
    "# Extract the file if it's compressed\n",
    "zip_file_path = os.path.join(data_folder, f\"{file_name}.zip\")\n",
    "if os.path.exists(zip_file_path):\n",
    "    with zipfile.ZipFile(zip_file_path, 'r') as zip_ref:\n",
    "        zip_ref.extractall(data_folder)\n",
    "    os.remove(zip_file_path)  # Optional: delete the zip file\n",
    "    print(f\"Extracted {file_name} to {data_folder}\")\n",
    "else:\n",
    "    print(f\"{file_name} downloaded directly.\")\n",
    "\n",
    "station_day_df= pd.read_csv(\"data-sets/station_day.csv\")\n"
   ]
  },
  {
   "cell_type": "markdown",
   "id": "b272e8fe-3472-4975-8be5-1334988d4722",
   "metadata": {},
   "source": [
    "#### **Dataset 2**\n",
    "\n",
    "Type:(CSV File.)\n",
    "\n",
    "Method:(Download it manually from kaggle website)\n",
    "\n",
    "Dataset variables:\n",
    "\n",
    "StationId: Unique identifier for each air quality monitoring station.\n",
    "\n",
    "Station Name: Name of the monitoring station.\n",
    "\n",
    "City: The city where the monitoring station is located.\n",
    "\n",
    "State: The state in which the station is located.\n",
    "\n",
    "Location: Specific location details of the station (e.g., neighborhood or street).\n",
    "\n",
    "Latitude: Geographical latitude of the station.\n",
    "\n",
    "Longitude: Geographical longitude of the station.\n",
    "\n"
   ]
  },
  {
   "cell_type": "code",
   "execution_count": 8,
   "id": "af15613b-388e-4342-ad33-d4579a9e6c86",
   "metadata": {},
   "outputs": [],
   "source": [
    "# readd the stations df\n",
    "stations_df= pd.read_csv(\"data-sets/stations.csv\")\n"
   ]
  },
  {
   "cell_type": "markdown",
   "id": "de6ba145-df08-4964-b19d-e090c59f6156",
   "metadata": {},
   "source": [
    "### Quality Issue 1: Missing Values in both datasets"
   ]
  },
  {
   "cell_type": "code",
   "execution_count": 9,
   "id": "e74307f9-2ec6-4487-9b72-224559c3025c",
   "metadata": {},
   "outputs": [
    {
     "data": {
      "text/html": [
       "<div>\n",
       "<style scoped>\n",
       "    .dataframe tbody tr th:only-of-type {\n",
       "        vertical-align: middle;\n",
       "    }\n",
       "\n",
       "    .dataframe tbody tr th {\n",
       "        vertical-align: top;\n",
       "    }\n",
       "\n",
       "    .dataframe thead th {\n",
       "        text-align: right;\n",
       "    }\n",
       "</style>\n",
       "<table border=\"1\" class=\"dataframe\">\n",
       "  <thead>\n",
       "    <tr style=\"text-align: right;\">\n",
       "      <th></th>\n",
       "      <th>StationId</th>\n",
       "      <th>Date</th>\n",
       "      <th>PM2.5</th>\n",
       "      <th>PM10</th>\n",
       "      <th>NO</th>\n",
       "      <th>NO2</th>\n",
       "      <th>NOx</th>\n",
       "      <th>NH3</th>\n",
       "      <th>CO</th>\n",
       "      <th>SO2</th>\n",
       "      <th>O3</th>\n",
       "      <th>Benzene</th>\n",
       "      <th>Toluene</th>\n",
       "      <th>Xylene</th>\n",
       "      <th>AQI</th>\n",
       "      <th>AQI_Bucket</th>\n",
       "    </tr>\n",
       "  </thead>\n",
       "  <tbody>\n",
       "    <tr>\n",
       "      <th>0</th>\n",
       "      <td>AP001</td>\n",
       "      <td>2017-11-24</td>\n",
       "      <td>71.36</td>\n",
       "      <td>115.75</td>\n",
       "      <td>1.75</td>\n",
       "      <td>20.65</td>\n",
       "      <td>12.40</td>\n",
       "      <td>12.19</td>\n",
       "      <td>0.10</td>\n",
       "      <td>10.76</td>\n",
       "      <td>109.26</td>\n",
       "      <td>0.17</td>\n",
       "      <td>5.92</td>\n",
       "      <td>0.10</td>\n",
       "      <td>NaN</td>\n",
       "      <td>NaN</td>\n",
       "    </tr>\n",
       "    <tr>\n",
       "      <th>1</th>\n",
       "      <td>AP001</td>\n",
       "      <td>2017-11-25</td>\n",
       "      <td>81.40</td>\n",
       "      <td>124.50</td>\n",
       "      <td>1.44</td>\n",
       "      <td>20.50</td>\n",
       "      <td>12.08</td>\n",
       "      <td>10.72</td>\n",
       "      <td>0.12</td>\n",
       "      <td>15.24</td>\n",
       "      <td>127.09</td>\n",
       "      <td>0.20</td>\n",
       "      <td>6.50</td>\n",
       "      <td>0.06</td>\n",
       "      <td>184.0</td>\n",
       "      <td>Moderate</td>\n",
       "    </tr>\n",
       "    <tr>\n",
       "      <th>2</th>\n",
       "      <td>AP001</td>\n",
       "      <td>2017-11-26</td>\n",
       "      <td>78.32</td>\n",
       "      <td>129.06</td>\n",
       "      <td>1.26</td>\n",
       "      <td>26.00</td>\n",
       "      <td>14.85</td>\n",
       "      <td>10.28</td>\n",
       "      <td>0.14</td>\n",
       "      <td>26.96</td>\n",
       "      <td>117.44</td>\n",
       "      <td>0.22</td>\n",
       "      <td>7.95</td>\n",
       "      <td>0.08</td>\n",
       "      <td>197.0</td>\n",
       "      <td>Moderate</td>\n",
       "    </tr>\n",
       "    <tr>\n",
       "      <th>3</th>\n",
       "      <td>AP001</td>\n",
       "      <td>2017-11-27</td>\n",
       "      <td>88.76</td>\n",
       "      <td>135.32</td>\n",
       "      <td>6.60</td>\n",
       "      <td>30.85</td>\n",
       "      <td>21.77</td>\n",
       "      <td>12.91</td>\n",
       "      <td>0.11</td>\n",
       "      <td>33.59</td>\n",
       "      <td>111.81</td>\n",
       "      <td>0.29</td>\n",
       "      <td>7.63</td>\n",
       "      <td>0.12</td>\n",
       "      <td>198.0</td>\n",
       "      <td>Moderate</td>\n",
       "    </tr>\n",
       "    <tr>\n",
       "      <th>4</th>\n",
       "      <td>AP001</td>\n",
       "      <td>2017-11-28</td>\n",
       "      <td>64.18</td>\n",
       "      <td>104.09</td>\n",
       "      <td>2.56</td>\n",
       "      <td>28.07</td>\n",
       "      <td>17.01</td>\n",
       "      <td>11.42</td>\n",
       "      <td>0.09</td>\n",
       "      <td>19.00</td>\n",
       "      <td>138.18</td>\n",
       "      <td>0.17</td>\n",
       "      <td>5.02</td>\n",
       "      <td>0.07</td>\n",
       "      <td>188.0</td>\n",
       "      <td>Moderate</td>\n",
       "    </tr>\n",
       "  </tbody>\n",
       "</table>\n",
       "</div>"
      ],
      "text/plain": [
       "  StationId        Date  PM2.5    PM10    NO    NO2    NOx    NH3    CO  \\\n",
       "0     AP001  2017-11-24  71.36  115.75  1.75  20.65  12.40  12.19  0.10   \n",
       "1     AP001  2017-11-25  81.40  124.50  1.44  20.50  12.08  10.72  0.12   \n",
       "2     AP001  2017-11-26  78.32  129.06  1.26  26.00  14.85  10.28  0.14   \n",
       "3     AP001  2017-11-27  88.76  135.32  6.60  30.85  21.77  12.91  0.11   \n",
       "4     AP001  2017-11-28  64.18  104.09  2.56  28.07  17.01  11.42  0.09   \n",
       "\n",
       "     SO2      O3  Benzene  Toluene  Xylene    AQI AQI_Bucket  \n",
       "0  10.76  109.26     0.17     5.92    0.10    NaN        NaN  \n",
       "1  15.24  127.09     0.20     6.50    0.06  184.0   Moderate  \n",
       "2  26.96  117.44     0.22     7.95    0.08  197.0   Moderate  \n",
       "3  33.59  111.81     0.29     7.63    0.12  198.0   Moderate  \n",
       "4  19.00  138.18     0.17     5.02    0.07  188.0   Moderate  "
      ]
     },
     "execution_count": 9,
     "metadata": {},
     "output_type": "execute_result"
    }
   ],
   "source": [
    "# Display the first 5 rows of the station_day_df dataset to visually inspect the data\n",
    "station_day_df.head()"
   ]
  },
  {
   "cell_type": "code",
   "execution_count": 10,
   "id": "e83d1c49-b411-4b81-b8b2-bed582d48de3",
   "metadata": {},
   "outputs": [
    {
     "data": {
      "text/html": [
       "<div>\n",
       "<style scoped>\n",
       "    .dataframe tbody tr th:only-of-type {\n",
       "        vertical-align: middle;\n",
       "    }\n",
       "\n",
       "    .dataframe tbody tr th {\n",
       "        vertical-align: top;\n",
       "    }\n",
       "\n",
       "    .dataframe thead th {\n",
       "        text-align: right;\n",
       "    }\n",
       "</style>\n",
       "<table border=\"1\" class=\"dataframe\">\n",
       "  <thead>\n",
       "    <tr style=\"text-align: right;\">\n",
       "      <th></th>\n",
       "      <th>StationId</th>\n",
       "      <th>StationName</th>\n",
       "      <th>City</th>\n",
       "      <th>State</th>\n",
       "      <th>Status</th>\n",
       "    </tr>\n",
       "  </thead>\n",
       "  <tbody>\n",
       "    <tr>\n",
       "      <th>0</th>\n",
       "      <td>AP001</td>\n",
       "      <td>Secretariat, Amaravati - APPCB</td>\n",
       "      <td>Amaravati</td>\n",
       "      <td>Andhra Pradesh</td>\n",
       "      <td>Active</td>\n",
       "    </tr>\n",
       "    <tr>\n",
       "      <th>1</th>\n",
       "      <td>AP002</td>\n",
       "      <td>Anand Kala Kshetram, Rajamahendravaram - APPCB</td>\n",
       "      <td>Rajamahendravaram</td>\n",
       "      <td>Andhra Pradesh</td>\n",
       "      <td>NaN</td>\n",
       "    </tr>\n",
       "    <tr>\n",
       "      <th>2</th>\n",
       "      <td>AP003</td>\n",
       "      <td>Tirumala, Tirupati - APPCB</td>\n",
       "      <td>Tirupati</td>\n",
       "      <td>Andhra Pradesh</td>\n",
       "      <td>NaN</td>\n",
       "    </tr>\n",
       "    <tr>\n",
       "      <th>3</th>\n",
       "      <td>AP004</td>\n",
       "      <td>PWD Grounds, Vijayawada - APPCB</td>\n",
       "      <td>Vijayawada</td>\n",
       "      <td>Andhra Pradesh</td>\n",
       "      <td>NaN</td>\n",
       "    </tr>\n",
       "    <tr>\n",
       "      <th>4</th>\n",
       "      <td>AP005</td>\n",
       "      <td>GVM Corporation, Visakhapatnam - APPCB</td>\n",
       "      <td>Visakhapatnam</td>\n",
       "      <td>Andhra Pradesh</td>\n",
       "      <td>Active</td>\n",
       "    </tr>\n",
       "  </tbody>\n",
       "</table>\n",
       "</div>"
      ],
      "text/plain": [
       "  StationId                                     StationName  \\\n",
       "0     AP001                  Secretariat, Amaravati - APPCB   \n",
       "1     AP002  Anand Kala Kshetram, Rajamahendravaram - APPCB   \n",
       "2     AP003                      Tirumala, Tirupati - APPCB   \n",
       "3     AP004                 PWD Grounds, Vijayawada - APPCB   \n",
       "4     AP005          GVM Corporation, Visakhapatnam - APPCB   \n",
       "\n",
       "                City           State  Status  \n",
       "0          Amaravati  Andhra Pradesh  Active  \n",
       "1  Rajamahendravaram  Andhra Pradesh     NaN  \n",
       "2           Tirupati  Andhra Pradesh     NaN  \n",
       "3         Vijayawada  Andhra Pradesh     NaN  \n",
       "4      Visakhapatnam  Andhra Pradesh  Active  "
      ]
     },
     "execution_count": 10,
     "metadata": {},
     "output_type": "execute_result"
    }
   ],
   "source": [
    "# Display the first 5 rows of the stations_df dataset to visually inspect the data\n",
    "stations_df.head()"
   ]
  },
  {
   "cell_type": "code",
   "execution_count": 11,
   "id": "e33ccf16-ecf1-4ba2-9475-66dc10717768",
   "metadata": {},
   "outputs": [
    {
     "name": "stdout",
     "output_type": "stream",
     "text": [
      "<class 'pandas.core.frame.DataFrame'>\n",
      "RangeIndex: 108035 entries, 0 to 108034\n",
      "Data columns (total 16 columns):\n",
      " #   Column      Non-Null Count   Dtype  \n",
      "---  ------      --------------   -----  \n",
      " 0   StationId   108035 non-null  object \n",
      " 1   Date        108035 non-null  object \n",
      " 2   PM2.5       86410 non-null   float64\n",
      " 3   PM10        65329 non-null   float64\n",
      " 4   NO          90929 non-null   float64\n",
      " 5   NO2         91488 non-null   float64\n",
      " 6   NOx         92535 non-null   float64\n",
      " 7   NH3         59930 non-null   float64\n",
      " 8   CO          95037 non-null   float64\n",
      " 9   SO2         82831 non-null   float64\n",
      " 10  O3          82467 non-null   float64\n",
      " 11  Benzene     76580 non-null   float64\n",
      " 12  Toluene     69333 non-null   float64\n",
      " 13  Xylene      22898 non-null   float64\n",
      " 14  AQI         87025 non-null   float64\n",
      " 15  AQI_Bucket  87025 non-null   object \n",
      "dtypes: float64(13), object(3)\n",
      "memory usage: 13.2+ MB\n"
     ]
    }
   ],
   "source": [
    "# Get detailed information about the station_day_df dataset, including data types and non-null counts\n",
    "station_day_df.info()\n"
   ]
  },
  {
   "cell_type": "code",
   "execution_count": 12,
   "id": "8144d727-5071-4cf2-b06e-3a9d9aa6c30b",
   "metadata": {},
   "outputs": [
    {
     "name": "stdout",
     "output_type": "stream",
     "text": [
      "<class 'pandas.core.frame.DataFrame'>\n",
      "RangeIndex: 230 entries, 0 to 229\n",
      "Data columns (total 5 columns):\n",
      " #   Column       Non-Null Count  Dtype \n",
      "---  ------       --------------  ----- \n",
      " 0   StationId    230 non-null    object\n",
      " 1   StationName  230 non-null    object\n",
      " 2   City         230 non-null    object\n",
      " 3   State        230 non-null    object\n",
      " 4   Status       133 non-null    object\n",
      "dtypes: object(5)\n",
      "memory usage: 9.1+ KB\n"
     ]
    }
   ],
   "source": [
    "# Get detailed information about the stations_df dataset, including data types and non-null counts\n",
    "stations_df.info()\n"
   ]
  },
  {
   "cell_type": "markdown",
   "id": "65221551-f8f6-4391-b435-7efa9fef532c",
   "metadata": {},
   "source": [
    "Justification:\n",
    "\n",
    "both datasets contains missing values\n",
    "\n",
    "in the first dataset the (PM2.5,PM10,NO,NO2,NOx,NH3,CO,SO2,O3,Benzene,Toluene,Xylene,AQI,AQI_Bucket) have missing values\n",
    "\n",
    "in the econde dataset the (Status) have missing values\n"
   ]
  },
  {
   "cell_type": "markdown",
   "id": "8f9fb1fa-c80f-41dd-a627-de1056a5cb13",
   "metadata": {},
   "source": [
    "### Quality Issue 2: Wrong data type"
   ]
  },
  {
   "cell_type": "code",
   "execution_count": 13,
   "id": "084da5e5-2da4-4db5-b2ba-56ff1c531564",
   "metadata": {},
   "outputs": [
    {
     "data": {
      "text/plain": [
       "StationId      object\n",
       "Date           object\n",
       "PM2.5         float64\n",
       "PM10          float64\n",
       "NO            float64\n",
       "NO2           float64\n",
       "NOx           float64\n",
       "NH3           float64\n",
       "CO            float64\n",
       "SO2           float64\n",
       "O3            float64\n",
       "Benzene       float64\n",
       "Toluene       float64\n",
       "Xylene        float64\n",
       "AQI           float64\n",
       "AQI_Bucket     object\n",
       "dtype: object"
      ]
     },
     "execution_count": 13,
     "metadata": {},
     "output_type": "execute_result"
    }
   ],
   "source": [
    "# station_day dataset:\n",
    "station_day_df.dtypes\n"
   ]
  },
  {
   "cell_type": "code",
   "execution_count": 14,
   "id": "ef74ebd0-cf6d-4581-9111-fa4ff94cf396",
   "metadata": {},
   "outputs": [
    {
     "data": {
      "text/plain": [
       "array([nan, 'Moderate', 'Poor', 'Very Poor', 'Satisfactory', 'Good',\n",
       "       'Severe'], dtype=object)"
      ]
     },
     "execution_count": 14,
     "metadata": {},
     "output_type": "execute_result"
    }
   ],
   "source": [
    "# Display the unique categories within the 'AQI_Bucket' column\n",
    "station_day_df['AQI_Bucket'].unique()"
   ]
  },
  {
   "cell_type": "code",
   "execution_count": 15,
   "id": "a523bbe8-7508-408b-a17a-fd30bfa5134c",
   "metadata": {},
   "outputs": [
    {
     "data": {
      "text/plain": [
       "StationId      object\n",
       "StationName    object\n",
       "City           object\n",
       "State          object\n",
       "Status         object\n",
       "dtype: object"
      ]
     },
     "execution_count": 15,
     "metadata": {},
     "output_type": "execute_result"
    }
   ],
   "source": [
    "# stations dataset:\n",
    "stations_df.dtypes\n"
   ]
  },
  {
   "cell_type": "code",
   "execution_count": 16,
   "id": "82ded28d-4777-4cbb-8db8-f734694576a4",
   "metadata": {},
   "outputs": [
    {
     "data": {
      "text/plain": [
       "array(['Active', nan, 'Inactive'], dtype=object)"
      ]
     },
     "execution_count": 16,
     "metadata": {},
     "output_type": "execute_result"
    }
   ],
   "source": [
    "# Display the unique categories within the 'Status' column\n",
    "stations_df['Status'].unique()"
   ]
  },
  {
   "cell_type": "code",
   "execution_count": 17,
   "id": "8aac3e96-1be3-4981-8796-669678c2f1e7",
   "metadata": {},
   "outputs": [
    {
     "data": {
      "text/plain": [
       "Status\n",
       "Active      131\n",
       "Inactive      2\n",
       "Name: count, dtype: int64"
      ]
     },
     "execution_count": 17,
     "metadata": {},
     "output_type": "execute_result"
    }
   ],
   "source": [
    "stations_df['Status'].value_counts()"
   ]
  },
  {
   "cell_type": "markdown",
   "id": "e34dd8e5-26f6-4909-be42-75c6988489cd",
   "metadata": {},
   "source": [
    "### Justification:\n",
    "\n",
    "in the station_day_df:\n",
    "\n",
    "Date should be datetime64, but it's currently object.\n",
    "\n",
    "AQI_Bucket should be category, but it's currently object.\n",
    "\n",
    "in the stations_df:\n",
    "\n",
    "Status should be category, but it's currently object.\n",
    "\n",
    "\n"
   ]
  },
  {
   "cell_type": "markdown",
   "id": "9a3781ca-f195-414b-9c23-6591c8def401",
   "metadata": {},
   "source": [
    "### Tidiness Issue 1:"
   ]
  },
  {
   "cell_type": "markdown",
   "id": "906b1524-d88b-4a6b-9148-e924cf96f94f",
   "metadata": {},
   "source": [
    "#### in the firest dataset (station_day_df)"
   ]
  },
  {
   "cell_type": "code",
   "execution_count": 18,
   "id": "1b51f617-6539-4b43-a1b9-e8cffb5fe534",
   "metadata": {},
   "outputs": [
    {
     "data": {
      "text/html": [
       "<div>\n",
       "<style scoped>\n",
       "    .dataframe tbody tr th:only-of-type {\n",
       "        vertical-align: middle;\n",
       "    }\n",
       "\n",
       "    .dataframe tbody tr th {\n",
       "        vertical-align: top;\n",
       "    }\n",
       "\n",
       "    .dataframe thead th {\n",
       "        text-align: right;\n",
       "    }\n",
       "</style>\n",
       "<table border=\"1\" class=\"dataframe\">\n",
       "  <thead>\n",
       "    <tr style=\"text-align: right;\">\n",
       "      <th></th>\n",
       "      <th>PM2.5</th>\n",
       "      <th>PM10</th>\n",
       "      <th>NO</th>\n",
       "      <th>NO2</th>\n",
       "      <th>NOx</th>\n",
       "      <th>NH3</th>\n",
       "      <th>CO</th>\n",
       "      <th>SO2</th>\n",
       "      <th>O3</th>\n",
       "      <th>Benzene</th>\n",
       "      <th>Toluene</th>\n",
       "      <th>Xylene</th>\n",
       "    </tr>\n",
       "  </thead>\n",
       "  <tbody>\n",
       "    <tr>\n",
       "      <th>0</th>\n",
       "      <td>71.36</td>\n",
       "      <td>115.75</td>\n",
       "      <td>1.75</td>\n",
       "      <td>20.65</td>\n",
       "      <td>12.40</td>\n",
       "      <td>12.19</td>\n",
       "      <td>0.10</td>\n",
       "      <td>10.76</td>\n",
       "      <td>109.26</td>\n",
       "      <td>0.17</td>\n",
       "      <td>5.92</td>\n",
       "      <td>0.10</td>\n",
       "    </tr>\n",
       "    <tr>\n",
       "      <th>1</th>\n",
       "      <td>81.40</td>\n",
       "      <td>124.50</td>\n",
       "      <td>1.44</td>\n",
       "      <td>20.50</td>\n",
       "      <td>12.08</td>\n",
       "      <td>10.72</td>\n",
       "      <td>0.12</td>\n",
       "      <td>15.24</td>\n",
       "      <td>127.09</td>\n",
       "      <td>0.20</td>\n",
       "      <td>6.50</td>\n",
       "      <td>0.06</td>\n",
       "    </tr>\n",
       "    <tr>\n",
       "      <th>2</th>\n",
       "      <td>78.32</td>\n",
       "      <td>129.06</td>\n",
       "      <td>1.26</td>\n",
       "      <td>26.00</td>\n",
       "      <td>14.85</td>\n",
       "      <td>10.28</td>\n",
       "      <td>0.14</td>\n",
       "      <td>26.96</td>\n",
       "      <td>117.44</td>\n",
       "      <td>0.22</td>\n",
       "      <td>7.95</td>\n",
       "      <td>0.08</td>\n",
       "    </tr>\n",
       "    <tr>\n",
       "      <th>3</th>\n",
       "      <td>88.76</td>\n",
       "      <td>135.32</td>\n",
       "      <td>6.60</td>\n",
       "      <td>30.85</td>\n",
       "      <td>21.77</td>\n",
       "      <td>12.91</td>\n",
       "      <td>0.11</td>\n",
       "      <td>33.59</td>\n",
       "      <td>111.81</td>\n",
       "      <td>0.29</td>\n",
       "      <td>7.63</td>\n",
       "      <td>0.12</td>\n",
       "    </tr>\n",
       "    <tr>\n",
       "      <th>4</th>\n",
       "      <td>64.18</td>\n",
       "      <td>104.09</td>\n",
       "      <td>2.56</td>\n",
       "      <td>28.07</td>\n",
       "      <td>17.01</td>\n",
       "      <td>11.42</td>\n",
       "      <td>0.09</td>\n",
       "      <td>19.00</td>\n",
       "      <td>138.18</td>\n",
       "      <td>0.17</td>\n",
       "      <td>5.02</td>\n",
       "      <td>0.07</td>\n",
       "    </tr>\n",
       "  </tbody>\n",
       "</table>\n",
       "</div>"
      ],
      "text/plain": [
       "   PM2.5    PM10    NO    NO2    NOx    NH3    CO    SO2      O3  Benzene  \\\n",
       "0  71.36  115.75  1.75  20.65  12.40  12.19  0.10  10.76  109.26     0.17   \n",
       "1  81.40  124.50  1.44  20.50  12.08  10.72  0.12  15.24  127.09     0.20   \n",
       "2  78.32  129.06  1.26  26.00  14.85  10.28  0.14  26.96  117.44     0.22   \n",
       "3  88.76  135.32  6.60  30.85  21.77  12.91  0.11  33.59  111.81     0.29   \n",
       "4  64.18  104.09  2.56  28.07  17.01  11.42  0.09  19.00  138.18     0.17   \n",
       "\n",
       "   Toluene  Xylene  \n",
       "0     5.92    0.10  \n",
       "1     6.50    0.06  \n",
       "2     7.95    0.08  \n",
       "3     7.63    0.12  \n",
       "4     5.02    0.07  "
      ]
     },
     "execution_count": 18,
     "metadata": {},
     "output_type": "execute_result"
    }
   ],
   "source": [
    "# in station_day_df\n",
    "#the dataset has multiple pollutant columns:\n",
    "pollutants = ['PM2.5', 'PM10', 'NO', 'NO2', 'NOx', 'NH3', 'CO', 'SO2', 'O3', 'Benzene', 'Toluene', 'Xylene']\n",
    "station_day_df[pollutants].head()"
   ]
  },
  {
   "cell_type": "markdown",
   "id": "1c0759ef-a768-4d07-8ea3-c6e57565af37",
   "metadata": {},
   "source": [
    "#### in the seconde dataset (stations_df)"
   ]
  },
  {
   "cell_type": "code",
   "execution_count": 19,
   "id": "7c775935-1c5e-4dcf-bd2d-04df5651d9d4",
   "metadata": {},
   "outputs": [
    {
     "data": {
      "text/plain": [
       "0                    Secretariat, Amaravati - APPCB\n",
       "1    Anand Kala Kshetram, Rajamahendravaram - APPCB\n",
       "2                        Tirumala, Tirupati - APPCB\n",
       "3                   PWD Grounds, Vijayawada - APPCB\n",
       "4            GVM Corporation, Visakhapatnam - APPCB\n",
       "Name: StationName, dtype: object"
      ]
     },
     "execution_count": 19,
     "metadata": {},
     "output_type": "execute_result"
    }
   ],
   "source": [
    "# Inspect the 'StationName' column to check if it contains multiple variables\n",
    "stations_df['StationName'].head()"
   ]
  },
  {
   "cell_type": "markdown",
   "id": "51bf6b33-2d9a-4ec6-87a1-16c462392e58",
   "metadata": {},
   "source": [
    "### Justification\n",
    "\n",
    "in station_day_df:\n",
    "\n",
    "The dataset has multiple columns representing different air pollutants \n",
    "( PM2.5, PM10, NO, NO2, NOx, NH3, CO, SO2, O3, Benzene, Toluene, Xylene). Each of these pollutants is represented in its own column.\n",
    "\n",
    "\n",
    "in stations_df:\n",
    "\n",
    "A preview of the StationName column to show if it contains multiple pieces of information.\n"
   ]
  },
  {
   "cell_type": "markdown",
   "id": "dbe8d32c-e59a-4173-879d-39a8187f4081",
   "metadata": {},
   "source": [
    "### Tidiness Issue 2:"
   ]
  },
  {
   "cell_type": "markdown",
   "id": "9d253d1b-c239-4788-a002-ece7b17ffddd",
   "metadata": {},
   "source": [
    "#### in the firest dataset (station_day_df)\n"
   ]
  },
  {
   "cell_type": "code",
   "execution_count": 20,
   "id": "33edd205-68d9-4e24-909c-74f1e3d702c0",
   "metadata": {},
   "outputs": [
    {
     "data": {
      "text/html": [
       "<div>\n",
       "<style scoped>\n",
       "    .dataframe tbody tr th:only-of-type {\n",
       "        vertical-align: middle;\n",
       "    }\n",
       "\n",
       "    .dataframe tbody tr th {\n",
       "        vertical-align: top;\n",
       "    }\n",
       "\n",
       "    .dataframe thead th {\n",
       "        text-align: right;\n",
       "    }\n",
       "</style>\n",
       "<table border=\"1\" class=\"dataframe\">\n",
       "  <thead>\n",
       "    <tr style=\"text-align: right;\">\n",
       "      <th></th>\n",
       "      <th>AQI</th>\n",
       "      <th>AQI_Bucket</th>\n",
       "    </tr>\n",
       "  </thead>\n",
       "  <tbody>\n",
       "    <tr>\n",
       "      <th>0</th>\n",
       "      <td>NaN</td>\n",
       "      <td>NaN</td>\n",
       "    </tr>\n",
       "    <tr>\n",
       "      <th>1</th>\n",
       "      <td>184.0</td>\n",
       "      <td>Moderate</td>\n",
       "    </tr>\n",
       "    <tr>\n",
       "      <th>2</th>\n",
       "      <td>197.0</td>\n",
       "      <td>Moderate</td>\n",
       "    </tr>\n",
       "    <tr>\n",
       "      <th>3</th>\n",
       "      <td>198.0</td>\n",
       "      <td>Moderate</td>\n",
       "    </tr>\n",
       "    <tr>\n",
       "      <th>4</th>\n",
       "      <td>188.0</td>\n",
       "      <td>Moderate</td>\n",
       "    </tr>\n",
       "  </tbody>\n",
       "</table>\n",
       "</div>"
      ],
      "text/plain": [
       "     AQI AQI_Bucket\n",
       "0    NaN        NaN\n",
       "1  184.0   Moderate\n",
       "2  197.0   Moderate\n",
       "3  198.0   Moderate\n",
       "4  188.0   Moderate"
      ]
     },
     "execution_count": 20,
     "metadata": {},
     "output_type": "execute_result"
    }
   ],
   "source": [
    "# in station_day_df\n",
    "#Show the relationship between AQI and AQI_Bucket..\n",
    "#Problem: These columns represent the same underlying information about air quality, where the AQI value can be used to derive the AQI_Bucket or vice versa. Keeping both columns separately can lead to redundancy and confusion.\n",
    "\n",
    "station_day_df[['AQI', 'AQI_Bucket']].head()\n"
   ]
  },
  {
   "cell_type": "markdown",
   "id": "e3a916ce-816d-4f1d-965c-eccb9dfb3f49",
   "metadata": {},
   "source": [
    "#### in the seconde dataset (stations_df)"
   ]
  },
  {
   "cell_type": "code",
   "execution_count": 21,
   "id": "f51e7cd2-891a-4cff-a948-a499d50a22ea",
   "metadata": {},
   "outputs": [
    {
     "data": {
      "text/plain": [
       "StationId       0\n",
       "StationName     0\n",
       "City            0\n",
       "State           0\n",
       "Status         97\n",
       "dtype: int64"
      ]
     },
     "execution_count": 21,
     "metadata": {},
     "output_type": "execute_result"
    }
   ],
   "source": [
    "stations_df.isnull().sum()"
   ]
  },
  {
   "cell_type": "code",
   "execution_count": 22,
   "id": "7765e7c1-92d4-414f-9d5e-30880c416818",
   "metadata": {},
   "outputs": [
    {
     "name": "stdout",
     "output_type": "stream",
     "text": [
      "<class 'pandas.core.frame.DataFrame'>\n",
      "RangeIndex: 230 entries, 0 to 229\n",
      "Data columns (total 5 columns):\n",
      " #   Column       Non-Null Count  Dtype \n",
      "---  ------       --------------  ----- \n",
      " 0   StationId    230 non-null    object\n",
      " 1   StationName  230 non-null    object\n",
      " 2   City         230 non-null    object\n",
      " 3   State        230 non-null    object\n",
      " 4   Status       133 non-null    object\n",
      "dtypes: object(5)\n",
      "memory usage: 9.1+ KB\n"
     ]
    }
   ],
   "source": [
    "stations_df.info()"
   ]
  },
  {
   "cell_type": "markdown",
   "id": "cbeba3f0-8364-405a-85d3-51d286f21d8f",
   "metadata": {},
   "source": [
    "### Justification\n",
    "\n",
    "in station_day_df:\n",
    "\n",
    "#The dataset includes both AQI (numeric) and AQI_Bucket (categorical) columns, where AQI_Bucket provides the air quality status (e.g., \"Good\", \"Moderate\", \"Poor\").\n",
    "\n",
    "in stations_df:\n",
    "\n",
    "The Status column contains a large number of missing values (NaN). As seen in the sample data, only some entries have an \"Active\" status, while others are missing. If Status is not important for your analysis, you might consider dropping it.\n"
   ]
  },
  {
   "cell_type": "markdown",
   "id": "e8f378fa-5804-466b-a7e3-af5829318829",
   "metadata": {},
   "source": [
    "## 3. Clean data\n"
   ]
  },
  {
   "cell_type": "code",
   "execution_count": 23,
   "id": "b892c868-b87d-4603-b5cd-da636a2c2d5b",
   "metadata": {},
   "outputs": [],
   "source": [
    "# Create copies of the datasets to ensure the original data remains unchanged\n",
    "cleaned_station_day_df = station_day_df.copy()\n",
    "cleaned_stations_df = stations_df.copy()\n"
   ]
  },
  {
   "cell_type": "markdown",
   "id": "2ee5fcb0-3307-40ec-bc3f-a75d5da71610",
   "metadata": {},
   "source": [
    "### **Quality Issue 1:"
   ]
  },
  {
   "cell_type": "code",
   "execution_count": 24,
   "id": "1890c231-4f40-49b5-a04e-c2c952bf7ca3",
   "metadata": {},
   "outputs": [],
   "source": [
    "# drop AQI_Bucket column \n",
    "cleaned_station_day_df.drop(['AQI_Bucket'], axis=1, inplace=True)\n",
    "\n",
    "cleaned_station_day_df = cleaned_station_day_df.dropna()\n",
    "\n"
   ]
  },
  {
   "cell_type": "code",
   "execution_count": 25,
   "id": "b2723270-c152-4d4a-9984-fa2f609b5af7",
   "metadata": {},
   "outputs": [
    {
     "data": {
      "text/html": [
       "<div>\n",
       "<style scoped>\n",
       "    .dataframe tbody tr th:only-of-type {\n",
       "        vertical-align: middle;\n",
       "    }\n",
       "\n",
       "    .dataframe tbody tr th {\n",
       "        vertical-align: top;\n",
       "    }\n",
       "\n",
       "    .dataframe thead th {\n",
       "        text-align: right;\n",
       "    }\n",
       "</style>\n",
       "<table border=\"1\" class=\"dataframe\">\n",
       "  <thead>\n",
       "    <tr style=\"text-align: right;\">\n",
       "      <th></th>\n",
       "      <th>StationId</th>\n",
       "      <th>Date</th>\n",
       "      <th>PM2.5</th>\n",
       "      <th>PM10</th>\n",
       "      <th>NO</th>\n",
       "      <th>NO2</th>\n",
       "      <th>NOx</th>\n",
       "      <th>NH3</th>\n",
       "      <th>CO</th>\n",
       "      <th>SO2</th>\n",
       "      <th>O3</th>\n",
       "      <th>Benzene</th>\n",
       "      <th>Toluene</th>\n",
       "      <th>Xylene</th>\n",
       "      <th>AQI</th>\n",
       "    </tr>\n",
       "  </thead>\n",
       "  <tbody>\n",
       "    <tr>\n",
       "      <th>1</th>\n",
       "      <td>AP001</td>\n",
       "      <td>2017-11-25</td>\n",
       "      <td>81.40</td>\n",
       "      <td>124.50</td>\n",
       "      <td>1.44</td>\n",
       "      <td>20.50</td>\n",
       "      <td>12.08</td>\n",
       "      <td>10.72</td>\n",
       "      <td>0.12</td>\n",
       "      <td>15.24</td>\n",
       "      <td>127.09</td>\n",
       "      <td>0.20</td>\n",
       "      <td>6.50</td>\n",
       "      <td>0.06</td>\n",
       "      <td>184.0</td>\n",
       "    </tr>\n",
       "    <tr>\n",
       "      <th>2</th>\n",
       "      <td>AP001</td>\n",
       "      <td>2017-11-26</td>\n",
       "      <td>78.32</td>\n",
       "      <td>129.06</td>\n",
       "      <td>1.26</td>\n",
       "      <td>26.00</td>\n",
       "      <td>14.85</td>\n",
       "      <td>10.28</td>\n",
       "      <td>0.14</td>\n",
       "      <td>26.96</td>\n",
       "      <td>117.44</td>\n",
       "      <td>0.22</td>\n",
       "      <td>7.95</td>\n",
       "      <td>0.08</td>\n",
       "      <td>197.0</td>\n",
       "    </tr>\n",
       "    <tr>\n",
       "      <th>3</th>\n",
       "      <td>AP001</td>\n",
       "      <td>2017-11-27</td>\n",
       "      <td>88.76</td>\n",
       "      <td>135.32</td>\n",
       "      <td>6.60</td>\n",
       "      <td>30.85</td>\n",
       "      <td>21.77</td>\n",
       "      <td>12.91</td>\n",
       "      <td>0.11</td>\n",
       "      <td>33.59</td>\n",
       "      <td>111.81</td>\n",
       "      <td>0.29</td>\n",
       "      <td>7.63</td>\n",
       "      <td>0.12</td>\n",
       "      <td>198.0</td>\n",
       "    </tr>\n",
       "    <tr>\n",
       "      <th>4</th>\n",
       "      <td>AP001</td>\n",
       "      <td>2017-11-28</td>\n",
       "      <td>64.18</td>\n",
       "      <td>104.09</td>\n",
       "      <td>2.56</td>\n",
       "      <td>28.07</td>\n",
       "      <td>17.01</td>\n",
       "      <td>11.42</td>\n",
       "      <td>0.09</td>\n",
       "      <td>19.00</td>\n",
       "      <td>138.18</td>\n",
       "      <td>0.17</td>\n",
       "      <td>5.02</td>\n",
       "      <td>0.07</td>\n",
       "      <td>188.0</td>\n",
       "    </tr>\n",
       "    <tr>\n",
       "      <th>5</th>\n",
       "      <td>AP001</td>\n",
       "      <td>2017-11-29</td>\n",
       "      <td>72.47</td>\n",
       "      <td>114.84</td>\n",
       "      <td>5.23</td>\n",
       "      <td>23.20</td>\n",
       "      <td>16.59</td>\n",
       "      <td>12.25</td>\n",
       "      <td>0.16</td>\n",
       "      <td>10.55</td>\n",
       "      <td>109.74</td>\n",
       "      <td>0.21</td>\n",
       "      <td>4.71</td>\n",
       "      <td>0.08</td>\n",
       "      <td>173.0</td>\n",
       "    </tr>\n",
       "  </tbody>\n",
       "</table>\n",
       "</div>"
      ],
      "text/plain": [
       "  StationId        Date  PM2.5    PM10    NO    NO2    NOx    NH3    CO  \\\n",
       "1     AP001  2017-11-25  81.40  124.50  1.44  20.50  12.08  10.72  0.12   \n",
       "2     AP001  2017-11-26  78.32  129.06  1.26  26.00  14.85  10.28  0.14   \n",
       "3     AP001  2017-11-27  88.76  135.32  6.60  30.85  21.77  12.91  0.11   \n",
       "4     AP001  2017-11-28  64.18  104.09  2.56  28.07  17.01  11.42  0.09   \n",
       "5     AP001  2017-11-29  72.47  114.84  5.23  23.20  16.59  12.25  0.16   \n",
       "\n",
       "     SO2      O3  Benzene  Toluene  Xylene    AQI  \n",
       "1  15.24  127.09     0.20     6.50    0.06  184.0  \n",
       "2  26.96  117.44     0.22     7.95    0.08  197.0  \n",
       "3  33.59  111.81     0.29     7.63    0.12  198.0  \n",
       "4  19.00  138.18     0.17     5.02    0.07  188.0  \n",
       "5  10.55  109.74     0.21     4.71    0.08  173.0  "
      ]
     },
     "execution_count": 25,
     "metadata": {},
     "output_type": "execute_result"
    }
   ],
   "source": [
    "cleaned_station_day_df.head()"
   ]
  },
  {
   "cell_type": "code",
   "execution_count": 26,
   "id": "94315bf3-6771-43da-8d12-4196807f0d18",
   "metadata": {},
   "outputs": [
    {
     "data": {
      "text/plain": [
       "(10314, 15)"
      ]
     },
     "execution_count": 26,
     "metadata": {},
     "output_type": "execute_result"
    }
   ],
   "source": [
    "cleaned_station_day_df.shape"
   ]
  },
  {
   "cell_type": "code",
   "execution_count": 27,
   "id": "c8794c7f-0396-4f3c-917d-c0f944c23bb4",
   "metadata": {},
   "outputs": [
    {
     "data": {
      "text/plain": [
       "StationId    0\n",
       "Date         0\n",
       "PM2.5        0\n",
       "PM10         0\n",
       "NO           0\n",
       "NO2          0\n",
       "NOx          0\n",
       "NH3          0\n",
       "CO           0\n",
       "SO2          0\n",
       "O3           0\n",
       "Benzene      0\n",
       "Toluene      0\n",
       "Xylene       0\n",
       "AQI          0\n",
       "dtype: int64"
      ]
     },
     "execution_count": 27,
     "metadata": {},
     "output_type": "execute_result"
    }
   ],
   "source": [
    "# Validate that there are no missing values in the cleaned_station_day_df\n",
    "cleaned_station_day_df.isnull().sum()\n"
   ]
  },
  {
   "cell_type": "code",
   "execution_count": 28,
   "id": "a803867c-4ad2-4d7a-bef4-f10170270f8c",
   "metadata": {},
   "outputs": [],
   "source": [
    "#cleaned_stations_df\n",
    "\n",
    "#drop the status column\n",
    "cleaned_stations_df.drop(['Status'], axis=1, inplace=True)\n",
    "\n",
    "\n"
   ]
  },
  {
   "cell_type": "code",
   "execution_count": 29,
   "id": "e40e4f57-fe67-4d68-9a9a-4799bf0c950e",
   "metadata": {},
   "outputs": [
    {
     "data": {
      "text/html": [
       "<div>\n",
       "<style scoped>\n",
       "    .dataframe tbody tr th:only-of-type {\n",
       "        vertical-align: middle;\n",
       "    }\n",
       "\n",
       "    .dataframe tbody tr th {\n",
       "        vertical-align: top;\n",
       "    }\n",
       "\n",
       "    .dataframe thead th {\n",
       "        text-align: right;\n",
       "    }\n",
       "</style>\n",
       "<table border=\"1\" class=\"dataframe\">\n",
       "  <thead>\n",
       "    <tr style=\"text-align: right;\">\n",
       "      <th></th>\n",
       "      <th>StationId</th>\n",
       "      <th>StationName</th>\n",
       "      <th>City</th>\n",
       "      <th>State</th>\n",
       "    </tr>\n",
       "  </thead>\n",
       "  <tbody>\n",
       "    <tr>\n",
       "      <th>0</th>\n",
       "      <td>AP001</td>\n",
       "      <td>Secretariat, Amaravati - APPCB</td>\n",
       "      <td>Amaravati</td>\n",
       "      <td>Andhra Pradesh</td>\n",
       "    </tr>\n",
       "    <tr>\n",
       "      <th>1</th>\n",
       "      <td>AP002</td>\n",
       "      <td>Anand Kala Kshetram, Rajamahendravaram - APPCB</td>\n",
       "      <td>Rajamahendravaram</td>\n",
       "      <td>Andhra Pradesh</td>\n",
       "    </tr>\n",
       "    <tr>\n",
       "      <th>2</th>\n",
       "      <td>AP003</td>\n",
       "      <td>Tirumala, Tirupati - APPCB</td>\n",
       "      <td>Tirupati</td>\n",
       "      <td>Andhra Pradesh</td>\n",
       "    </tr>\n",
       "    <tr>\n",
       "      <th>3</th>\n",
       "      <td>AP004</td>\n",
       "      <td>PWD Grounds, Vijayawada - APPCB</td>\n",
       "      <td>Vijayawada</td>\n",
       "      <td>Andhra Pradesh</td>\n",
       "    </tr>\n",
       "    <tr>\n",
       "      <th>4</th>\n",
       "      <td>AP005</td>\n",
       "      <td>GVM Corporation, Visakhapatnam - APPCB</td>\n",
       "      <td>Visakhapatnam</td>\n",
       "      <td>Andhra Pradesh</td>\n",
       "    </tr>\n",
       "  </tbody>\n",
       "</table>\n",
       "</div>"
      ],
      "text/plain": [
       "  StationId                                     StationName  \\\n",
       "0     AP001                  Secretariat, Amaravati - APPCB   \n",
       "1     AP002  Anand Kala Kshetram, Rajamahendravaram - APPCB   \n",
       "2     AP003                      Tirumala, Tirupati - APPCB   \n",
       "3     AP004                 PWD Grounds, Vijayawada - APPCB   \n",
       "4     AP005          GVM Corporation, Visakhapatnam - APPCB   \n",
       "\n",
       "                City           State  \n",
       "0          Amaravati  Andhra Pradesh  \n",
       "1  Rajamahendravaram  Andhra Pradesh  \n",
       "2           Tirupati  Andhra Pradesh  \n",
       "3         Vijayawada  Andhra Pradesh  \n",
       "4      Visakhapatnam  Andhra Pradesh  "
      ]
     },
     "execution_count": 29,
     "metadata": {},
     "output_type": "execute_result"
    }
   ],
   "source": [
    "cleaned_stations_df.head()"
   ]
  },
  {
   "cell_type": "code",
   "execution_count": 30,
   "id": "377830eb-e1d3-4cca-bded-06d220c24704",
   "metadata": {},
   "outputs": [
    {
     "data": {
      "text/plain": [
       "StationId      0\n",
       "StationName    0\n",
       "City           0\n",
       "State          0\n",
       "dtype: int64"
      ]
     },
     "execution_count": 30,
     "metadata": {},
     "output_type": "execute_result"
    }
   ],
   "source": [
    "# Validate that there are no missing values in the cleaned_stations_df\n",
    "cleaned_stations_df.isnull().sum()\n"
   ]
  },
  {
   "cell_type": "markdown",
   "id": "92939201-96c8-46aa-84ac-b3af69008940",
   "metadata": {},
   "source": [
    "##### Other issues The column causing this issue has been removed."
   ]
  },
  {
   "cell_type": "markdown",
   "id": "64ae95cd-7966-4eb5-b473-37b0e6237cab",
   "metadata": {},
   "source": [
    "### **Quality Issue 2:"
   ]
  },
  {
   "cell_type": "code",
   "execution_count": 31,
   "id": "cd4fe6cd-8816-4529-9a87-df7943b49ce5",
   "metadata": {},
   "outputs": [],
   "source": [
    "# Convert 'Date' to datetime64\n",
    "cleaned_station_day_df['Date'] = pd.to_datetime(cleaned_station_day_df['Date'], errors='coerce')\n"
   ]
  },
  {
   "cell_type": "code",
   "execution_count": 32,
   "id": "42d2a1d0-e1a1-4d41-92d6-a69f51955cf8",
   "metadata": {},
   "outputs": [
    {
     "name": "stdout",
     "output_type": "stream",
     "text": [
      "<class 'pandas.core.frame.DataFrame'>\n",
      "Index: 10314 entries, 1 to 106147\n",
      "Data columns (total 15 columns):\n",
      " #   Column     Non-Null Count  Dtype         \n",
      "---  ------     --------------  -----         \n",
      " 0   StationId  10314 non-null  object        \n",
      " 1   Date       10314 non-null  datetime64[ns]\n",
      " 2   PM2.5      10314 non-null  float64       \n",
      " 3   PM10       10314 non-null  float64       \n",
      " 4   NO         10314 non-null  float64       \n",
      " 5   NO2        10314 non-null  float64       \n",
      " 6   NOx        10314 non-null  float64       \n",
      " 7   NH3        10314 non-null  float64       \n",
      " 8   CO         10314 non-null  float64       \n",
      " 9   SO2        10314 non-null  float64       \n",
      " 10  O3         10314 non-null  float64       \n",
      " 11  Benzene    10314 non-null  float64       \n",
      " 12  Toluene    10314 non-null  float64       \n",
      " 13  Xylene     10314 non-null  float64       \n",
      " 14  AQI        10314 non-null  float64       \n",
      "dtypes: datetime64[ns](1), float64(13), object(1)\n",
      "memory usage: 1.3+ MB\n"
     ]
    }
   ],
   "source": [
    "# Validate that from Date column\n",
    "cleaned_station_day_df.info()"
   ]
  },
  {
   "cell_type": "code",
   "execution_count": 33,
   "id": "8c05168f-9ff2-4e12-8f79-59d65fbce963",
   "metadata": {},
   "outputs": [
    {
     "data": {
      "text/plain": [
       "dtype('<M8[ns]')"
      ]
     },
     "execution_count": 33,
     "metadata": {},
     "output_type": "execute_result"
    }
   ],
   "source": [
    "cleaned_station_day_df['Date'].dtype"
   ]
  },
  {
   "cell_type": "markdown",
   "id": "6f15880e-b610-46ab-8b9e-df2188f06490",
   "metadata": {},
   "source": [
    "##### Other issues The column causing this issue has been removed."
   ]
  },
  {
   "cell_type": "markdown",
   "id": "586b057c-42f8-4684-99a3-959169f18d67",
   "metadata": {},
   "source": [
    "### **Tidiness Issue 1:"
   ]
  },
  {
   "cell_type": "markdown",
   "id": "a0246789-16d9-48b1-ac22-ee3a6c7c3506",
   "metadata": {},
   "source": [
    "#### in the firest dataset (station_day_df)\n",
    "Use pd.melt() to Reshape the Data:\n",
    "\n",
    "Combine all the pollutant columns into two columns: Pollutant (pollutant name) and Value (its measurement).\n",
    "Retain other identifying columns such as StationId and Date.\n"
   ]
  },
  {
   "cell_type": "code",
   "execution_count": 34,
   "id": "2457f0e5-8e2b-4d2d-a6e9-7c39c03c2c7d",
   "metadata": {},
   "outputs": [],
   "source": [
    "# Columns to keep (identifiers)\n",
    "id_vars = ['StationId', 'Date']\n",
    "\n",
    "# Columns to melt (pollutants)\n",
    "value_vars = ['PM2.5', 'PM10', 'NO', 'NO2', 'NOx', 'NH3', 'CO', 'SO2', 'O3', 'Benzene', 'Toluene', 'Xylene']\n",
    "\n",
    "# Melt the dataset\n",
    "cleaned_station_day_df = pd.melt(\n",
    "    cleaned_station_day_df,  # First argument is the dataset\n",
    "    id_vars=id_vars,\n",
    "    value_vars=value_vars,\n",
    "    var_name='Pollutant',\n",
    "    value_name='Value'\n",
    ")\n",
    "\n",
    "# Preview the result\n"
   ]
  },
  {
   "cell_type": "code",
   "execution_count": 35,
   "id": "89a6467f-a9a0-4ea2-8404-f30ee7fdb58a",
   "metadata": {},
   "outputs": [
    {
     "data": {
      "text/html": [
       "<div>\n",
       "<style scoped>\n",
       "    .dataframe tbody tr th:only-of-type {\n",
       "        vertical-align: middle;\n",
       "    }\n",
       "\n",
       "    .dataframe tbody tr th {\n",
       "        vertical-align: top;\n",
       "    }\n",
       "\n",
       "    .dataframe thead th {\n",
       "        text-align: right;\n",
       "    }\n",
       "</style>\n",
       "<table border=\"1\" class=\"dataframe\">\n",
       "  <thead>\n",
       "    <tr style=\"text-align: right;\">\n",
       "      <th></th>\n",
       "      <th>StationId</th>\n",
       "      <th>Date</th>\n",
       "      <th>Pollutant</th>\n",
       "      <th>Value</th>\n",
       "    </tr>\n",
       "  </thead>\n",
       "  <tbody>\n",
       "    <tr>\n",
       "      <th>18423</th>\n",
       "      <td>TG004</td>\n",
       "      <td>2020-03-10</td>\n",
       "      <td>PM10</td>\n",
       "      <td>54.12</td>\n",
       "    </tr>\n",
       "    <tr>\n",
       "      <th>49683</th>\n",
       "      <td>TG006</td>\n",
       "      <td>2016-05-25</td>\n",
       "      <td>NOx</td>\n",
       "      <td>20.91</td>\n",
       "    </tr>\n",
       "    <tr>\n",
       "      <th>66943</th>\n",
       "      <td>TG001</td>\n",
       "      <td>2020-05-31</td>\n",
       "      <td>CO</td>\n",
       "      <td>0.33</td>\n",
       "    </tr>\n",
       "    <tr>\n",
       "      <th>104888</th>\n",
       "      <td>AP005</td>\n",
       "      <td>2020-06-02</td>\n",
       "      <td>Toluene</td>\n",
       "      <td>3.44</td>\n",
       "    </tr>\n",
       "    <tr>\n",
       "      <th>92418</th>\n",
       "      <td>WB009</td>\n",
       "      <td>2019-10-15</td>\n",
       "      <td>O3</td>\n",
       "      <td>45.72</td>\n",
       "    </tr>\n",
       "    <tr>\n",
       "      <th>37727</th>\n",
       "      <td>TG003</td>\n",
       "      <td>2019-11-26</td>\n",
       "      <td>NO2</td>\n",
       "      <td>27.23</td>\n",
       "    </tr>\n",
       "    <tr>\n",
       "      <th>83415</th>\n",
       "      <td>AP005</td>\n",
       "      <td>2017-04-04</td>\n",
       "      <td>O3</td>\n",
       "      <td>7.31</td>\n",
       "    </tr>\n",
       "    <tr>\n",
       "      <th>89727</th>\n",
       "      <td>TG004</td>\n",
       "      <td>2017-04-20</td>\n",
       "      <td>O3</td>\n",
       "      <td>40.75</td>\n",
       "    </tr>\n",
       "    <tr>\n",
       "      <th>59818</th>\n",
       "      <td>TG006</td>\n",
       "      <td>2015-10-21</td>\n",
       "      <td>NH3</td>\n",
       "      <td>11.18</td>\n",
       "    </tr>\n",
       "    <tr>\n",
       "      <th>35481</th>\n",
       "      <td>TG001</td>\n",
       "      <td>2018-11-12</td>\n",
       "      <td>NO2</td>\n",
       "      <td>16.49</td>\n",
       "    </tr>\n",
       "  </tbody>\n",
       "</table>\n",
       "</div>"
      ],
      "text/plain": [
       "       StationId       Date Pollutant  Value\n",
       "18423      TG004 2020-03-10      PM10  54.12\n",
       "49683      TG006 2016-05-25       NOx  20.91\n",
       "66943      TG001 2020-05-31        CO   0.33\n",
       "104888     AP005 2020-06-02   Toluene   3.44\n",
       "92418      WB009 2019-10-15        O3  45.72\n",
       "37727      TG003 2019-11-26       NO2  27.23\n",
       "83415      AP005 2017-04-04        O3   7.31\n",
       "89727      TG004 2017-04-20        O3  40.75\n",
       "59818      TG006 2015-10-21       NH3  11.18\n",
       "35481      TG001 2018-11-12       NO2  16.49"
      ]
     },
     "execution_count": 35,
     "metadata": {},
     "output_type": "execute_result"
    }
   ],
   "source": [
    "# Preview the result\n",
    "cleaned_station_day_df.sample(10)"
   ]
  },
  {
   "cell_type": "markdown",
   "id": "50e40fda-5413-47e8-b26a-37ec9cfaed0a",
   "metadata": {},
   "source": [
    "#### in the second dataset (stations_df):\n",
    " StationName column it contains multiple pieces of information (e.g., names combined with locations or organizations), we can break the problem into two steps:\n"
   ]
  },
  {
   "cell_type": "markdown",
   "id": "f819e0ed-f1bc-46cf-9a9e-e334aaf9ca1a",
   "metadata": {},
   "source": [
    "Step 1: Inspect the StationName Column\n"
   ]
  },
  {
   "cell_type": "code",
   "execution_count": 36,
   "id": "ff82afea-8fae-4138-a52f-205415573a5a",
   "metadata": {},
   "outputs": [
    {
     "name": "stdout",
     "output_type": "stream",
     "text": [
      "['Secretariat, Amaravati - APPCB'\n",
      " 'Anand Kala Kshetram, Rajamahendravaram - APPCB'\n",
      " 'Tirumala, Tirupati - APPCB' 'PWD Grounds, Vijayawada - APPCB'\n",
      " 'GVM Corporation, Visakhapatnam - APPCB'\n",
      " 'Railway Colony, Guwahati - APCB' 'Collectorate, Gaya - BSPCB'\n",
      " 'SFTI Kusdihra, Gaya - BSPCB' 'Industrial Area, Hajipur - BSPCB'\n",
      " 'Muzaffarpur Collectorate, Muzaffarpur - BSPCB'\n",
      " 'DRM Office Danapur, Patna - BSPCB'\n",
      " 'Govt. High School Shikarpur, Patna - BSPCB'\n",
      " 'IGSC Planetarium Complex, Patna - BSPCB' 'Muradpur, Patna - BSPCB'\n",
      " 'Rajbansi Nagar, Patna - BSPCB' 'Samanpura, Patna - BSPCB'\n",
      " 'Sector-25, Chandigarh - CPCC' 'Alipur, Delhi - DPCC'\n",
      " 'Anand Vihar, Delhi - DPCC' 'Ashok Vihar, Delhi - DPCC'\n",
      " 'Aya Nagar, Delhi - IMD' 'Bawana, Delhi - DPCC'\n",
      " 'Burari Crossing, Delhi - IMD' 'CRRI Mathura Road, Delhi - IMD'\n",
      " 'DTU, Delhi - CPCB' 'Dr. Karni Singh Shooting Range, Delhi - DPCC'\n",
      " 'Dwarka-Sector 8, Delhi - DPCC' 'East Arjun Nagar, Delhi - CPCB'\n",
      " 'IGI Airport (T3), Delhi - IMD' 'IHBAS, Dilshad Garden, Delhi - CPCB'\n",
      " 'ITO, Delhi - CPCB' 'Jahangirpuri, Delhi - DPCC'\n",
      " 'Jawaharlal Nehru Stadium, Delhi - DPCC' 'Lodhi Road, Delhi - IMD'\n",
      " 'Major Dhyan Chand National Stadium, Delhi - DPCC'\n",
      " 'Mandir Marg, Delhi - DPCC' 'Mundka, Delhi - DPCC'\n",
      " 'NSIT Dwarka, Delhi - CPCB' 'Najafgarh, Delhi - DPCC'\n",
      " 'Narela, Delhi - DPCC' 'Nehru Nagar, Delhi - DPCC'\n",
      " 'North Campus, DU, Delhi - IMD' 'Okhla Phase-2, Delhi - DPCC'\n",
      " 'Patparganj, Delhi - DPCC' 'Punjabi Bagh, Delhi - DPCC'\n",
      " 'Pusa, Delhi - DPCC' 'Pusa, Delhi - IMD' 'R K Puram, Delhi - DPCC'\n",
      " 'Rohini, Delhi - DPCC' 'Shadipur, Delhi - CPCB' 'Sirifort, Delhi - CPCB'\n",
      " 'Sonia Vihar, Delhi - DPCC' 'Sri Aurobindo Marg, Delhi - DPCC'\n",
      " 'Vivek Vihar, Delhi - DPCC' 'Wazirpur, Delhi - DPCC'\n",
      " 'Maninagar, Ahmedabad - GPCB' 'GIDC, Ankleshwar - GPCB'\n",
      " 'Sector-10, Gandhinagar - GPCB'\n",
      " 'GIDC, Nandesari - Nandesari Ind. Association'\n",
      " 'Phase-1 GIDC, Vapi - GPCB' 'Phase-4 GIDC, Vatva - GPCB'\n",
      " 'Patti Mehar, Ambala - HSPCB' 'Arya Nagar, Bahadurgarh - HSPCB'\n",
      " 'Nathu Colony, Ballabgarh - HSPCB' 'H.B. Colony, Bhiwani - HSPCB'\n",
      " 'Municipal Corporation Office, Dharuhera - HSPCB'\n",
      " 'New Industrial Town, Faridabad - HSPCB' 'Sector 11, Faridabad - HSPCB'\n",
      " 'Sector 30, Faridabad - HSPCB' 'Sector- 16A, Faridabad - HSPCB'\n",
      " 'Huda Sector, Fatehabad - HSPCB' 'NISE Gwal Pahari, Gurugram - IMD'\n",
      " 'Sector-51, Gurugram - HSPCB' 'Teri Gram, Gurugram - HSPCB'\n",
      " 'Vikas Sadan, Gurugram - HSPCB' 'Urban Estate-II, Hisar - HSPCB'\n",
      " 'Police Lines, Jind - HSPCB' 'Rishi Nagar, Kaithal - HSPCB'\n",
      " 'Sector-12, Karnal - HSPCB' 'Sector-7, Kurukshetra - HSPCB'\n",
      " 'General Hospital, Mandikhera - HSPCB' 'Sector-2 IMT, Manesar - HSPCB'\n",
      " 'Shastri Nagar, Narnaul - HSPCB' 'Shyam Nagar, Palwal - HSPCB'\n",
      " 'Sector-6, Panchkula - HSPCB' 'Sector-18, Panipat - HSPCB'\n",
      " 'MD University, Rohtak - HSPCB' 'F-Block, Sirsa - HSPCB'\n",
      " 'Murthal, Sonipat - HSPCB' 'Gobind Pura, Yamuna Nagar - HSPCB'\n",
      " 'Tata Stadium, Jorapokhar - JSPCB' 'Vidayagiri, Bagalkot - KSPCB'\n",
      " 'BTM Layout, Bengaluru - CPCB' 'BWSSB Kadabesanahalli, Bengaluru - CPCB'\n",
      " 'Bapuji Nagar, Bengaluru - KSPCB'\n",
      " 'City Railway Station, Bengaluru - KSPCB' 'Hebbal, Bengaluru - KSPCB'\n",
      " 'Hombegowda Nagar, Bengaluru - KSPCB'\n",
      " 'Jayanagar 5th Block, Bengaluru - KSPCB' 'Peenya, Bengaluru - CPCB'\n",
      " 'Sanegurava Halli, Bengaluru - KSPCB' 'Silk Board, Bengaluru - KSPCB'\n",
      " 'Urban, Chamarajanagar - KSPCB'\n",
      " 'Chikkaballapur Rural, Chikkaballapur - KSPCB'\n",
      " 'Kalyana Nagara, Chikkamagaluru - KSPCB'\n",
      " 'Deshpande Nagar, Hubballi - KSPCB'\n",
      " 'Lal Bahadur Shastri Nagar, Kalaburagi - KSPCB'\n",
      " 'Hebbal 1st Stage, Mysuru - KSPCB' 'Vijay Nagar, Ramanagara - KSPCB'\n",
      " 'Ibrahimpur, Vijayapura - KSPCB' 'Collector Office, Yadgir - KSPCB'\n",
      " 'Udyogamandal, Eloor - Kerala PCB' 'Kacheripady, Ernakulam - Kerala PCB'\n",
      " 'Thavakkara, Kannur - Kerala PCB' 'Vyttila, Kochi - Kerala PCB'\n",
      " 'Polayathode, Kollam - Kerala PCB' 'Palayam, Kozhikode - Kerala PCB'\n",
      " 'Kariavattom, Thiruvananthapuram - Kerala PCB'\n",
      " 'Plammoodu, Thiruvananthapuram - Kerala PCB' 'T T Nagar, Bhopal - MPPCB'\n",
      " 'Shrivastav Colony, Damoh - MPPCB' 'Bhopal Chauraha, Dewas - MPPCB'\n",
      " 'City Center, Gwalior - MPPCB' 'Phool Bagh, Gwalior - Mondelez Ind. Food'\n",
      " 'Chhoti Gwaltoli, Indore - MPPCB' 'Marhatal, Jabalpur - MPPCB'\n",
      " 'Gole Bazar, Katni - MPPCB' 'Sahilara, Maihar - KJS Cements'\n",
      " 'Sector-D Industrial Area, Mandideep - MPPCB'\n",
      " 'Sector-2 Industrial Area, Pithampur - MPPCB'\n",
      " 'Shasthri Nagar, Ratlam - IPCA Lab' 'Deen Dayal Nagar, Sagar - MPPCB'\n",
      " 'Bandhavgar Colony, Satna - Birla Cement'\n",
      " 'Vindhyachal STPS, Singrauli - MPPCB'\n",
      " 'Mahakaleshwar Temple, Ujjain - MPPCB'\n",
      " 'More Chowk Waluj, Aurangabad - MPCB' 'Chandrapur, Chandrapur - MPCB'\n",
      " 'MIDC Khutala, Chandrapur - MPCB' 'Khadakpada, Kalyan - MPCB'\n",
      " 'Bandra, Mumbai - MPCB' 'Borivali East, Mumbai - MPCB'\n",
      " 'Chhatrapati Shivaji Intl. Airport (T2), Mumbai - MPCB'\n",
      " 'Colaba, Mumbai - MPCB' 'Kurla, Mumbai - MPCB' 'Powai, Mumbai - MPCB'\n",
      " 'Sion, Mumbai - MPCB' 'Vasai West, Mumbai - MPCB'\n",
      " 'Vile Parle West, Mumbai - MPCB' 'Worli, Mumbai - MPCB'\n",
      " 'Opp GPO Civil Lines, Nagpur - MPCB' 'Gangapur Road, Nashik - MPCB'\n",
      " 'Airoli, Navi Mumbai - MPCB' 'Mahape, Navi Mumbai - MPCB'\n",
      " 'Nerul, Navi Mumbai - MPCB' 'Karve Road, Pune - MPCB'\n",
      " 'Solapur, Solapur - MPCB' 'Pimpleshwar Mandir, Thane - MPCB'\n",
      " 'Lumpyngngad, Shillong - Meghalaya PCB'\n",
      " 'Sikulpuikawn, Aizawl - Mizoram PCB' 'GM Office, Brajrajnagar - OSPCB'\n",
      " 'Talcher Coalfields,Talcher - OSPCB' 'Golden Temple, Amritsar - PPCB'\n",
      " 'Hardev Nagar, Bathinda - PPCB' 'Civil Line, Jalandhar - PPCB'\n",
      " 'Kalal Majra, Khanna - PPCB'\n",
      " 'Punjab Agricultural University, Ludhiana - PPCB'\n",
      " 'RIMT University, Mandi Gobindgarh - PPCB' 'Model Town, Patiala - PPCB'\n",
      " 'Ratanpura, Rupnagar - Ambuja Cements' 'Moti Doongri, Alwar - RSPCB'\n",
      " 'Civil Lines, Ajmer - RSPCB' 'RIICO Ind. Area III, Bhiwadi - RSPCB'\n",
      " 'Adarsh Nagar, Jaipur - RSPCB' 'Police Commissionerate, Jaipur - RSPCB'\n",
      " 'Shastri Nagar, Jaipur - RSPCB' 'Collectorate, Jodhpur - RSPCB'\n",
      " 'Shrinath Puram, Kota - RSPCB' 'Indira Colony Vistar, Pali - RSPCB'\n",
      " 'Ashok Nagar, Udaipur - RSPCB' 'Alandur Bus Depot, Chennai - CPCB'\n",
      " 'Manali Village, Chennai - TNPCB' 'Manali, Chennai - CPCB'\n",
      " 'Velachery Res. Area, Chennai - CPCB' 'SIDCO Kurichi, Coimbatore - TNPCB'\n",
      " 'Bollaram Industrial Area, Hyderabad - TSPCB'\n",
      " 'Central University, Hyderabad - TSPCB'\n",
      " 'ICRISAT Patancheru, Hyderabad - TSPCB'\n",
      " 'IDA Pashamylaram, Hyderabad - TSPCB' 'Sanathnagar, Hyderabad - TSPCB'\n",
      " 'Zoo Park, Hyderabad - TSPCB' 'Sanjay Palace, Agra - UPPCB'\n",
      " 'New Collectorate, Baghpat - UPPCB' 'Yamunapuram, Bulandshahr - UPPCB'\n",
      " 'Indirapuram, Ghaziabad - UPPCB' 'Loni, Ghaziabad - UPPCB'\n",
      " 'Sanjay Nagar, Ghaziabad - UPPCB' 'Vasundhara, Ghaziabad - UPPCB'\n",
      " 'Knowledge Park - III, Greater Noida - UPPCB'\n",
      " 'Knowledge Park - V, Greater Noida - UPPCB' 'Anand Vihar, Hapur - UPPCB'\n",
      " 'Nehru Nagar, Kanpur - UPPCB' 'Central School, Lucknow - CPCB'\n",
      " 'Gomti Nagar, Lucknow - UPPCB' 'Lalbagh, Lucknow - CPCB'\n",
      " 'Nishant Ganj, Lucknow - UPPCB'\n",
      " 'Talkatora District Industries Center, Lucknow - CPCB'\n",
      " 'Ganga Nagar, Meerut - UPPCB' 'Jai Bhim Nagar, Meerut - UPPCB'\n",
      " 'Pallavpuram Phase 2, Meerut - UPPCB' 'Lajpat Nagar, Moradabad - UPPCB'\n",
      " 'New Mandi, Muzaffarnagar - UPPCB' 'Sector - 125, Noida - UPPCB'\n",
      " 'Sector - 62, Noida - IMD' 'Sector-1, Noida - UPPCB'\n",
      " 'Sector-116, Noida - UPPCB' 'Ardhali Bazar, Varanasi - UPPCB'\n",
      " 'Asansol Court Area, Asansol - WBPCB'\n",
      " 'Sidhu Kanhu Indoor Stadium, Durgapur - WBPCB' 'Haldia, Haldia - WBPCB'\n",
      " 'Belur Math, Howrah - WBPCB' 'Ghusuri, Howrah - WBPCB'\n",
      " 'Padmapukur, Howrah - WBPCB' 'Ballygunge, Kolkata - WBPCB'\n",
      " 'Bidhannagar, Kolkata - WBPCB' 'Fort William, Kolkata - WBPCB'\n",
      " 'Jadavpur, Kolkata - WBPCB'\n",
      " 'Rabindra Bharati University, Kolkata - WBPCB'\n",
      " 'Rabindra Sarobar, Kolkata - WBPCB' 'Victoria, Kolkata - WBPCB'\n",
      " 'Ward-32 Bapupara, Siliguri - WBPCB']\n"
     ]
    },
    {
     "data": {
      "text/plain": [
       "StationName\n",
       "3    204\n",
       "4     26\n",
       "Name: count, dtype: int64"
      ]
     },
     "execution_count": 36,
     "metadata": {},
     "output_type": "execute_result"
    }
   ],
   "source": [
    "# Preview unique values in the StationName column\n",
    "print(cleaned_stations_df['StationName'].unique())\n",
    "\n",
    "# Analyze the structure of StationName (check for patterns like commas, hyphens, etc.)\n",
    "cleaned_stations_df['StationName'].str.split('[,-]').apply(len).value_counts()\n"
   ]
  },
  {
   "cell_type": "markdown",
   "id": "f53a5a87-b6ad-477c-b711-0ed515c8f1c1",
   "metadata": {},
   "source": [
    "Step 2: Extract Information\n"
   ]
  },
  {
   "cell_type": "code",
   "execution_count": 37,
   "id": "4de25ab0-5aa8-4aa4-8107-6cfa39af69d6",
   "metadata": {},
   "outputs": [
    {
     "data": {
      "text/html": [
       "<div>\n",
       "<style scoped>\n",
       "    .dataframe tbody tr th:only-of-type {\n",
       "        vertical-align: middle;\n",
       "    }\n",
       "\n",
       "    .dataframe tbody tr th {\n",
       "        vertical-align: top;\n",
       "    }\n",
       "\n",
       "    .dataframe thead th {\n",
       "        text-align: right;\n",
       "    }\n",
       "</style>\n",
       "<table border=\"1\" class=\"dataframe\">\n",
       "  <thead>\n",
       "    <tr style=\"text-align: right;\">\n",
       "      <th></th>\n",
       "      <th>StationId</th>\n",
       "      <th>StationName</th>\n",
       "      <th>City</th>\n",
       "      <th>State</th>\n",
       "      <th>Station</th>\n",
       "      <th>Location</th>\n",
       "      <th>Organization</th>\n",
       "    </tr>\n",
       "  </thead>\n",
       "  <tbody>\n",
       "    <tr>\n",
       "      <th>0</th>\n",
       "      <td>AP001</td>\n",
       "      <td>Secretariat, Amaravati - APPCB</td>\n",
       "      <td>Amaravati</td>\n",
       "      <td>Andhra Pradesh</td>\n",
       "      <td>Secretariat</td>\n",
       "      <td>Amaravati</td>\n",
       "      <td>APPCB</td>\n",
       "    </tr>\n",
       "    <tr>\n",
       "      <th>1</th>\n",
       "      <td>AP002</td>\n",
       "      <td>Anand Kala Kshetram, Rajamahendravaram - APPCB</td>\n",
       "      <td>Rajamahendravaram</td>\n",
       "      <td>Andhra Pradesh</td>\n",
       "      <td>Anand Kala Kshetram</td>\n",
       "      <td>Rajamahendravaram</td>\n",
       "      <td>APPCB</td>\n",
       "    </tr>\n",
       "    <tr>\n",
       "      <th>2</th>\n",
       "      <td>AP003</td>\n",
       "      <td>Tirumala, Tirupati - APPCB</td>\n",
       "      <td>Tirupati</td>\n",
       "      <td>Andhra Pradesh</td>\n",
       "      <td>Tirumala</td>\n",
       "      <td>Tirupati</td>\n",
       "      <td>APPCB</td>\n",
       "    </tr>\n",
       "    <tr>\n",
       "      <th>3</th>\n",
       "      <td>AP004</td>\n",
       "      <td>PWD Grounds, Vijayawada - APPCB</td>\n",
       "      <td>Vijayawada</td>\n",
       "      <td>Andhra Pradesh</td>\n",
       "      <td>PWD Grounds</td>\n",
       "      <td>Vijayawada</td>\n",
       "      <td>APPCB</td>\n",
       "    </tr>\n",
       "    <tr>\n",
       "      <th>4</th>\n",
       "      <td>AP005</td>\n",
       "      <td>GVM Corporation, Visakhapatnam - APPCB</td>\n",
       "      <td>Visakhapatnam</td>\n",
       "      <td>Andhra Pradesh</td>\n",
       "      <td>GVM Corporation</td>\n",
       "      <td>Visakhapatnam</td>\n",
       "      <td>APPCB</td>\n",
       "    </tr>\n",
       "  </tbody>\n",
       "</table>\n",
       "</div>"
      ],
      "text/plain": [
       "  StationId                                     StationName  \\\n",
       "0     AP001                  Secretariat, Amaravati - APPCB   \n",
       "1     AP002  Anand Kala Kshetram, Rajamahendravaram - APPCB   \n",
       "2     AP003                      Tirumala, Tirupati - APPCB   \n",
       "3     AP004                 PWD Grounds, Vijayawada - APPCB   \n",
       "4     AP005          GVM Corporation, Visakhapatnam - APPCB   \n",
       "\n",
       "                City           State              Station           Location  \\\n",
       "0          Amaravati  Andhra Pradesh          Secretariat          Amaravati   \n",
       "1  Rajamahendravaram  Andhra Pradesh  Anand Kala Kshetram  Rajamahendravaram   \n",
       "2           Tirupati  Andhra Pradesh             Tirumala           Tirupati   \n",
       "3         Vijayawada  Andhra Pradesh          PWD Grounds         Vijayawada   \n",
       "4      Visakhapatnam  Andhra Pradesh      GVM Corporation      Visakhapatnam   \n",
       "\n",
       "  Organization  \n",
       "0        APPCB  \n",
       "1        APPCB  \n",
       "2        APPCB  \n",
       "3        APPCB  \n",
       "4        APPCB  "
      ]
     },
     "execution_count": 37,
     "metadata": {},
     "output_type": "execute_result"
    }
   ],
   "source": [
    "# Split the StationName into multiple parts based on delimiters\n",
    "cleaned_stations_df[['Station', 'Location', 'Organization']] = cleaned_stations_df['StationName'].str.extract(\n",
    "    r'(?P<Station>.*?),\\s*(?P<Location>.*?)(?:\\s*-\\s*(?P<Organization>.*))?$'\n",
    ")\n",
    "\n",
    "# Preview the updated DataFrame\n",
    "cleaned_stations_df.head()\n"
   ]
  },
  {
   "cell_type": "markdown",
   "id": "eab2da4d-c042-412e-af8d-0226c6a5bf18",
   "metadata": {},
   "source": [
    "Step 3: Clean the Data\n"
   ]
  },
  {
   "cell_type": "code",
   "execution_count": 38,
   "id": "bbc55b87-0458-4fab-9670-a2798ff06630",
   "metadata": {},
   "outputs": [
    {
     "data": {
      "text/html": [
       "<div>\n",
       "<style scoped>\n",
       "    .dataframe tbody tr th:only-of-type {\n",
       "        vertical-align: middle;\n",
       "    }\n",
       "\n",
       "    .dataframe tbody tr th {\n",
       "        vertical-align: top;\n",
       "    }\n",
       "\n",
       "    .dataframe thead th {\n",
       "        text-align: right;\n",
       "    }\n",
       "</style>\n",
       "<table border=\"1\" class=\"dataframe\">\n",
       "  <thead>\n",
       "    <tr style=\"text-align: right;\">\n",
       "      <th></th>\n",
       "      <th>StationId</th>\n",
       "      <th>City</th>\n",
       "      <th>State</th>\n",
       "      <th>Station</th>\n",
       "      <th>Location</th>\n",
       "      <th>Organization</th>\n",
       "    </tr>\n",
       "  </thead>\n",
       "  <tbody>\n",
       "    <tr>\n",
       "      <th>0</th>\n",
       "      <td>AP001</td>\n",
       "      <td>Amaravati</td>\n",
       "      <td>Andhra Pradesh</td>\n",
       "      <td>Secretariat</td>\n",
       "      <td>Amaravati</td>\n",
       "      <td>APPCB</td>\n",
       "    </tr>\n",
       "    <tr>\n",
       "      <th>1</th>\n",
       "      <td>AP002</td>\n",
       "      <td>Rajamahendravaram</td>\n",
       "      <td>Andhra Pradesh</td>\n",
       "      <td>Anand Kala Kshetram</td>\n",
       "      <td>Rajamahendravaram</td>\n",
       "      <td>APPCB</td>\n",
       "    </tr>\n",
       "    <tr>\n",
       "      <th>2</th>\n",
       "      <td>AP003</td>\n",
       "      <td>Tirupati</td>\n",
       "      <td>Andhra Pradesh</td>\n",
       "      <td>Tirumala</td>\n",
       "      <td>Tirupati</td>\n",
       "      <td>APPCB</td>\n",
       "    </tr>\n",
       "    <tr>\n",
       "      <th>3</th>\n",
       "      <td>AP004</td>\n",
       "      <td>Vijayawada</td>\n",
       "      <td>Andhra Pradesh</td>\n",
       "      <td>PWD Grounds</td>\n",
       "      <td>Vijayawada</td>\n",
       "      <td>APPCB</td>\n",
       "    </tr>\n",
       "    <tr>\n",
       "      <th>4</th>\n",
       "      <td>AP005</td>\n",
       "      <td>Visakhapatnam</td>\n",
       "      <td>Andhra Pradesh</td>\n",
       "      <td>GVM Corporation</td>\n",
       "      <td>Visakhapatnam</td>\n",
       "      <td>APPCB</td>\n",
       "    </tr>\n",
       "  </tbody>\n",
       "</table>\n",
       "</div>"
      ],
      "text/plain": [
       "  StationId               City           State              Station  \\\n",
       "0     AP001          Amaravati  Andhra Pradesh          Secretariat   \n",
       "1     AP002  Rajamahendravaram  Andhra Pradesh  Anand Kala Kshetram   \n",
       "2     AP003           Tirupati  Andhra Pradesh             Tirumala   \n",
       "3     AP004         Vijayawada  Andhra Pradesh          PWD Grounds   \n",
       "4     AP005      Visakhapatnam  Andhra Pradesh      GVM Corporation   \n",
       "\n",
       "            Location Organization  \n",
       "0          Amaravati        APPCB  \n",
       "1  Rajamahendravaram        APPCB  \n",
       "2           Tirupati        APPCB  \n",
       "3         Vijayawada        APPCB  \n",
       "4      Visakhapatnam        APPCB  "
      ]
     },
     "execution_count": 38,
     "metadata": {},
     "output_type": "execute_result"
    }
   ],
   "source": [
    "# Drop the old StationName column\n",
    "cleaned_stations_df = cleaned_stations_df.drop(columns=['StationName'])\n",
    "\n",
    "# Preview the cleaned DataFrame\n",
    "cleaned_stations_df.head()\n"
   ]
  },
  {
   "cell_type": "markdown",
   "id": "26939d50-85f6-4a47-813f-065931a0a25c",
   "metadata": {},
   "source": [
    "### **Tidiness Issue 2:\n",
    "##### The issues The column causing this issue has been removed."
   ]
  },
  {
   "cell_type": "markdown",
   "id": "90252215-a968-4d40-84f4-c55cb4889f50",
   "metadata": {},
   "source": [
    "### **Remove unnecessary variables and combine datasets**\n",
    "\n",
    "Depending on the datasets, you can also peform the combination before the cleaning steps."
   ]
  },
  {
   "cell_type": "markdown",
   "id": "b80f2e20-5b8c-4dca-b463-3e7eb2ae4ce2",
   "metadata": {},
   "source": [
    "### Use pd.merge() to combine the datasets on the 'StationId' column.\n"
   ]
  },
  {
   "cell_type": "code",
   "execution_count": 39,
   "id": "67e528bd-676f-4447-ad2c-e8074f92f1bb",
   "metadata": {},
   "outputs": [],
   "source": [
    "# Perform the merge\n",
    "merged_df = pd.merge(\n",
    "    cleaned_station_day_df,  \n",
    "    cleaned_stations_df,    \n",
    "    on='StationId', \n",
    "    how='inner'      # Use 'inner' to keep only matching rows\n",
    ")\n",
    "\n",
    "# Preview the merged DataFrame\n"
   ]
  },
  {
   "cell_type": "code",
   "execution_count": 40,
   "id": "a176e42e-8634-42c5-b809-7663a0da3af0",
   "metadata": {},
   "outputs": [
    {
     "data": {
      "text/html": [
       "<div>\n",
       "<style scoped>\n",
       "    .dataframe tbody tr th:only-of-type {\n",
       "        vertical-align: middle;\n",
       "    }\n",
       "\n",
       "    .dataframe tbody tr th {\n",
       "        vertical-align: top;\n",
       "    }\n",
       "\n",
       "    .dataframe thead th {\n",
       "        text-align: right;\n",
       "    }\n",
       "</style>\n",
       "<table border=\"1\" class=\"dataframe\">\n",
       "  <thead>\n",
       "    <tr style=\"text-align: right;\">\n",
       "      <th></th>\n",
       "      <th>StationId</th>\n",
       "      <th>Date</th>\n",
       "      <th>Pollutant</th>\n",
       "      <th>Value</th>\n",
       "      <th>City</th>\n",
       "      <th>State</th>\n",
       "      <th>Station</th>\n",
       "      <th>Location</th>\n",
       "      <th>Organization</th>\n",
       "    </tr>\n",
       "  </thead>\n",
       "  <tbody>\n",
       "    <tr>\n",
       "      <th>6845</th>\n",
       "      <td>TG003</td>\n",
       "      <td>2020-01-25</td>\n",
       "      <td>PM2.5</td>\n",
       "      <td>57.38</td>\n",
       "      <td>Hyderabad</td>\n",
       "      <td>Telangana</td>\n",
       "      <td>ICRISAT Patancheru</td>\n",
       "      <td>Hyderabad</td>\n",
       "      <td>TSPCB</td>\n",
       "    </tr>\n",
       "    <tr>\n",
       "      <th>14025</th>\n",
       "      <td>PB001</td>\n",
       "      <td>2018-07-08</td>\n",
       "      <td>PM10</td>\n",
       "      <td>92.76</td>\n",
       "      <td>Amritsar</td>\n",
       "      <td>Punjab</td>\n",
       "      <td>Golden Temple</td>\n",
       "      <td>Amritsar</td>\n",
       "      <td>PPCB</td>\n",
       "    </tr>\n",
       "    <tr>\n",
       "      <th>102611</th>\n",
       "      <td>WB009</td>\n",
       "      <td>2019-06-15</td>\n",
       "      <td>Benzene</td>\n",
       "      <td>17.53</td>\n",
       "      <td>Kolkata</td>\n",
       "      <td>West Bengal</td>\n",
       "      <td>Fort William</td>\n",
       "      <td>Kolkata</td>\n",
       "      <td>WBPCB</td>\n",
       "    </tr>\n",
       "    <tr>\n",
       "      <th>44896</th>\n",
       "      <td>PB001</td>\n",
       "      <td>2018-02-05</td>\n",
       "      <td>NOx</td>\n",
       "      <td>100.19</td>\n",
       "      <td>Amritsar</td>\n",
       "      <td>Punjab</td>\n",
       "      <td>Golden Temple</td>\n",
       "      <td>Amritsar</td>\n",
       "      <td>PPCB</td>\n",
       "    </tr>\n",
       "    <tr>\n",
       "      <th>20358</th>\n",
       "      <td>WB009</td>\n",
       "      <td>2020-03-03</td>\n",
       "      <td>PM10</td>\n",
       "      <td>136.53</td>\n",
       "      <td>Kolkata</td>\n",
       "      <td>West Bengal</td>\n",
       "      <td>Fort William</td>\n",
       "      <td>Kolkata</td>\n",
       "      <td>WBPCB</td>\n",
       "    </tr>\n",
       "    <tr>\n",
       "      <th>13421</th>\n",
       "      <td>DL019</td>\n",
       "      <td>2019-07-18</td>\n",
       "      <td>PM10</td>\n",
       "      <td>80.83</td>\n",
       "      <td>Delhi</td>\n",
       "      <td>Delhi</td>\n",
       "      <td>Mandir Marg</td>\n",
       "      <td>Delhi</td>\n",
       "      <td>DPCC</td>\n",
       "    </tr>\n",
       "    <tr>\n",
       "      <th>30205</th>\n",
       "      <td>WB008</td>\n",
       "      <td>2019-10-07</td>\n",
       "      <td>NO</td>\n",
       "      <td>6.75</td>\n",
       "      <td>Kolkata</td>\n",
       "      <td>West Bengal</td>\n",
       "      <td>Bidhannagar</td>\n",
       "      <td>Kolkata</td>\n",
       "      <td>WBPCB</td>\n",
       "    </tr>\n",
       "  </tbody>\n",
       "</table>\n",
       "</div>"
      ],
      "text/plain": [
       "       StationId       Date Pollutant   Value       City        State  \\\n",
       "6845       TG003 2020-01-25     PM2.5   57.38  Hyderabad    Telangana   \n",
       "14025      PB001 2018-07-08      PM10   92.76   Amritsar       Punjab   \n",
       "102611     WB009 2019-06-15   Benzene   17.53    Kolkata  West Bengal   \n",
       "44896      PB001 2018-02-05       NOx  100.19   Amritsar       Punjab   \n",
       "20358      WB009 2020-03-03      PM10  136.53    Kolkata  West Bengal   \n",
       "13421      DL019 2019-07-18      PM10   80.83      Delhi        Delhi   \n",
       "30205      WB008 2019-10-07        NO    6.75    Kolkata  West Bengal   \n",
       "\n",
       "                   Station   Location Organization  \n",
       "6845    ICRISAT Patancheru  Hyderabad        TSPCB  \n",
       "14025        Golden Temple   Amritsar         PPCB  \n",
       "102611        Fort William    Kolkata        WBPCB  \n",
       "44896        Golden Temple   Amritsar         PPCB  \n",
       "20358         Fort William    Kolkata        WBPCB  \n",
       "13421          Mandir Marg      Delhi         DPCC  \n",
       "30205          Bidhannagar    Kolkata        WBPCB  "
      ]
     },
     "execution_count": 40,
     "metadata": {},
     "output_type": "execute_result"
    }
   ],
   "source": [
    "merged_df.sample(7)"
   ]
  },
  {
   "cell_type": "code",
   "execution_count": 41,
   "id": "9be7cf49-a1ca-4317-a76b-a062a5615fbb",
   "metadata": {},
   "outputs": [
    {
     "name": "stdout",
     "output_type": "stream",
     "text": [
      "<class 'pandas.core.frame.DataFrame'>\n",
      "RangeIndex: 123768 entries, 0 to 123767\n",
      "Data columns (total 9 columns):\n",
      " #   Column        Non-Null Count   Dtype         \n",
      "---  ------        --------------   -----         \n",
      " 0   StationId     123768 non-null  object        \n",
      " 1   Date          123768 non-null  datetime64[ns]\n",
      " 2   Pollutant     123768 non-null  object        \n",
      " 3   Value         123768 non-null  float64       \n",
      " 4   City          123768 non-null  object        \n",
      " 5   State         123768 non-null  object        \n",
      " 6   Station       123768 non-null  object        \n",
      " 7   Location      123768 non-null  object        \n",
      " 8   Organization  123768 non-null  object        \n",
      "dtypes: datetime64[ns](1), float64(1), object(7)\n",
      "memory usage: 8.5+ MB\n"
     ]
    }
   ],
   "source": [
    "merged_df.info()"
   ]
  },
  {
   "cell_type": "code",
   "execution_count": 42,
   "id": "8adfe8c8-a82f-4d3d-886c-488059484582",
   "metadata": {},
   "outputs": [
    {
     "data": {
      "text/plain": [
       "(123768, 9)"
      ]
     },
     "execution_count": 42,
     "metadata": {},
     "output_type": "execute_result"
    }
   ],
   "source": [
    "merged_df.shape"
   ]
  },
  {
   "cell_type": "code",
   "execution_count": 43,
   "id": "057dad6c-9362-43ca-9fe4-3f23a2e441a6",
   "metadata": {},
   "outputs": [
    {
     "data": {
      "text/plain": [
       "0"
      ]
     },
     "execution_count": 43,
     "metadata": {},
     "output_type": "execute_result"
    }
   ],
   "source": [
    "merged_df.duplicated().sum()"
   ]
  },
  {
   "cell_type": "markdown",
   "id": "46b9b1d2-89a3-409d-894b-01adf21d2713",
   "metadata": {},
   "source": [
    "## 4. Update your data store\n",
    "Update your local database or data repository with the cleaned data, adhering to best practices for organizing your cleaned data:\n",
    "\n",
    "* Ensure there are separate copies for each version of the data (raw and cleaned).\n",
    "* Use clear and descriptive file names for the datasets.\n",
    "* Save both the original raw data and the cleaned data in your database or data repository."
   ]
  },
  {
   "cell_type": "code",
   "execution_count": 44,
   "id": "67d0614d-4a0e-44f0-8d9e-4807a892c6e7",
   "metadata": {},
   "outputs": [],
   "source": [
    "# Save the raw station_day  data to without including the index column.\n",
    "station_day_df.to_csv('data-sets/raw_station_day_df.csv', index=False)\n",
    "\n",
    "# Save the raw stations data to  without including the index column.\n",
    "stations_df.to_csv('data-sets/raw_stations_df.csv', index=False)\n",
    "\n",
    "# Save the cleaned_station_day_df data to  without including the index column.\n",
    "cleaned_station_day_df.to_csv('data-sets/cleaned_station_day_df.csv', index=False)\n",
    "\n",
    "# Save the cleaned_stations_df data to  without including the index column.\n",
    "cleaned_stations_df.to_csv('data-sets/cleaned_stations_df.csv', index=False)\n",
    "\n",
    "# Store the merged_df without including the index column.\n",
    "merged_df.to_csv('data-sets/merged_df.csv', index=False)\n"
   ]
  },
  {
   "cell_type": "markdown",
   "id": "ef352701-4b2d-4fbb-849a-fdb60bfbf392",
   "metadata": {},
   "source": [
    "## 5. Answer the research question\n",
    "\n",
    "### **5.1:** Define and answer the research question \n",
    "Going back to the problem statement in step 1, use the cleaned data to answer the question you raised. Produce **at least** two visualizations using the cleaned data and explain how they help you answer the question."
   ]
  },
  {
   "cell_type": "markdown",
   "id": "f9710153-295b-4b0f-95b2-fc5599e70724",
   "metadata": {},
   "source": [
    "*Research question:\"How do pollutant levels vary over time, and which cities have the highest average pollutant levels?\"\n"
   ]
  },
  {
   "cell_type": "code",
   "execution_count": 62,
   "id": "ca334fec-132d-459e-8ac7-18d321bffe99",
   "metadata": {},
   "outputs": [
    {
     "data": {
      "image/png": "[encoded data removed]",
      "text/plain": [
       "<Figure size 1200x600 with 1 Axes>"
      ]
     },
     "metadata": {},
     "output_type": "display_data"
    }
   ],
   "source": [
    "def plot_line_pollutant_trend(df, pollutant):\n",
    "    plt.figure(figsize=(12, 6))\n",
    "    pollutant_df = df[df['Pollutant'] == pollutant].groupby('Date')['Value'].mean().reset_index()\n",
    "    plt.plot(pollutant_df['Date'], pollutant_df['Value'], color='blue', label=f'{pollutant} Levels')\n",
    "    plt.title(f\"Trend of {pollutant} Over Time\", fontsize=16)\n",
    "    plt.xlabel('Date', fontsize=12)\n",
    "    plt.ylabel('Average Level', fontsize=12)\n",
    "    plt.legend()\n",
    "    plt.grid(True)\n",
    "    plt.xticks(rotation=45)\n",
    "    plt.show()\n",
    "\n",
    "plot_line_pollutant_trend(merged_df, 'PM2.5')\n"
   ]
  },
  {
   "cell_type": "markdown",
   "id": "74fd223f-57df-4a07-a1ae-07157a1aada3",
   "metadata": {},
   "source": [
    "*Answer to research question: This line plot answers the research question by providing a clear visual representation of 'PM2.5' levels across different time points, showing trends that help us understand how air quality has evolved.\n",
    "\n",
    "\n",
    "\n",
    "\n",
    "\n",
    "\n",
    "\n"
   ]
  },
  {
   "cell_type": "code",
   "execution_count": 63,
   "id": "6e17a689-0904-40a2-b63d-57f0affb3697",
   "metadata": {},
   "outputs": [
    {
     "data": {
      "image/png": "[encoded data removed]",
      "text/plain": [
       "<Figure size 1200x600 with 1 Axes>"
      ]
     },
     "metadata": {},
     "output_type": "display_data"
    }
   ],
   "source": [
    "def plot_city_pollutant_levels(df, pollutant):\n",
    "    plt.figure(figsize=(12, 6))\n",
    "    city_pollutant = df[df['Pollutant'] == pollutant].groupby('City')['Value'].mean().sort_values(ascending=False).head(10)\n",
    "    city_pollutant.plot(kind='bar', color='skyblue', edgecolor='black')\n",
    "    plt.title(f\"Top 10 Cities with Highest Average {pollutant} Levels\", fontsize=16)\n",
    "    plt.xlabel('City', fontsize=12)\n",
    "    plt.ylabel('Average Level', fontsize=12)\n",
    "    plt.xticks(rotation=45)\n",
    "    plt.grid(axis='y', linestyle='--', alpha=0.7)\n",
    "    plt.show()\n",
    "\n",
    "plot_city_pollutant_levels(merged_df, 'PM2.5')\n"
   ]
  },
  {
   "cell_type": "markdown",
   "id": "2dcd0aed-0e5e-467f-8ccb-2451ee14743d",
   "metadata": {},
   "source": [
    "*Answer to research question: The bar plot provides a clear visualization of which cities experience the highest average levels of 'PM2.5' pollution, answering the research question by showcasing pollution hotspots and guiding potential interventions to improve air quality.\n",
    "\n",
    "\n",
    "\n",
    "\n",
    "\n",
    "\n"
   ]
  },
  {
   "cell_type": "markdown",
   "id": "ca313d80-101f-47c4-bc65-f405882c1e33",
   "metadata": {},
   "source": [
    "### **5.2:** Reflection\n",
    "In 2-4 sentences, if you had more time to complete the project, what actions would you take? For example, which data quality and structural issues would you look into further, and what research questions would you further explore?"
   ]
  },
  {
   "cell_type": "markdown",
   "id": "df8ac727-7201-4740-9cf4-c36e852179a5",
   "metadata": {},
   "source": [
    "If I had more time to complete the project, I would explore additional data quality issues, such as handling any remaining missing values, outliers, or duplicates in the dataset. I would also investigate the temporal patterns of pollutant levels across different seasons and years to identify long-term trends or anomalies. Further research questions could include exploring the relationship between specific pollutants and public health data, as well as assessing the impact of government policies or interventions on air quality over time. Additionally, I would consider creating predictive models for air quality forecasting.\n",
    "\n",
    "\n",
    "\n",
    "\n",
    "\n",
    "\n"
   ]
  }
 ],
 "metadata": {
  "kernelspec": {
   "display_name": "Python 3 (ipykernel)",
   "language": "python",
   "name": "python3"
  },
  "language_info": {
   "codemirror_mode": {
    "name": "ipython",
    "version": 3
   },
   "file_extension": ".py",
   "mimetype": "text/x-python",
   "name": "python",
   "nbconvert_exporter": "python",
   "pygments_lexer": "ipython3",
   "version": "3.11.2"
  }
 },
 "nbformat": 4,
 "nbformat_minor": 5
}
